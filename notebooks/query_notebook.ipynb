{
 "cells": [
  {
   "cell_type": "markdown",
   "metadata": {},
   "source": [
    "# Query Notebook\n",
    "\n",
    "Dans ce notebook on va interroger la base vectorielle contenant la legislation française pour répondre à des questions juridiques..."
   ]
  },
  {
   "cell_type": "code",
   "execution_count": 30,
   "metadata": {},
   "outputs": [
    {
     "name": "stdout",
     "output_type": "stream",
     "text": [
      "The autoreload extension is already loaded. To reload it, use:\n",
      "  %reload_ext autoreload\n"
     ]
    }
   ],
   "source": [
    "%load_ext autoreload\n",
    "%autoreload 2\n",
    "import sys\n",
    "import os\n",
    "sys.path.insert(0,'../')\n",
    "os.environ['TOKENIZERS_PARALLELISM']='false'\n",
    "from src.rag import RAG_Pipeline\n",
    "\n",
    "pipeline = RAG_Pipeline()\n",
    "pipeline.load(\"../faiss_db/\")\n",
    "\n",
    "def add_backline(text,frequency=15):\n",
    "    res = \"\"\n",
    "    index = 0\n",
    "    for char in str(text):\n",
    "        if char =='\\n':\n",
    "            index=0\n",
    "        if char == ' ':\n",
    "            index+=1\n",
    "            if not index%frequency:\n",
    "                res+='\\n'\n",
    "                continue\n",
    "        res+=char\n",
    "    return res"
   ]
  },
  {
   "cell_type": "code",
   "execution_count": 31,
   "metadata": {},
   "outputs": [],
   "source": [
    "question = \"Quelles sont les niches fiscales française ?\"\n",
    "\n",
    "response = pipeline.generate(question,k=50)"
   ]
  },
  {
   "cell_type": "code",
   "execution_count": 32,
   "metadata": {},
   "outputs": [
    {
     "name": "stdout",
     "output_type": "stream",
     "text": [
      "Les niches fiscales françaises comprennent plusieurs dispositifs qui permettent aux contribuables de bénéficier d'avantages fiscaux.\n",
      "Voici quelques exemples de niches fiscales en France :\n",
      "\n",
      "- Le dispositif Pinel : il permet de bénéficier d'une réduction d'impôt sur le revenu\n",
      "en investissant dans l'immobilier locatif neuf dans des zones éligibles.\n",
      "- Le dispositif Malraux : il offre une réduction d'impôt aux investisseurs qui rénovent des\n",
      "biens immobiliers situés dans des secteurs sauvegardés.\n",
      "- Le dispositif Girardin : il permet de bénéficier d'une réduction d'impôt en investissant dans\n",
      "des logements neufs ou réhabilités dans les départements d'outre-mer (DOM).\n",
      "- Le dispositif Censi-Bouvard : il offre une réduction d'impôt pour les investissements dans les\n",
      "résidences services (étudiantes, seniors, de tourisme) meublées.\n",
      "- Le dispositif Monuments Historiques : il permet de bénéficier d'une déduction spécifique pour les\n",
      "dépenses de restauration et d'entretien de biens immobiliers classés monuments historiques.\n",
      "\n",
      "Il existe de nombreuses autres niches fiscales en France, chacune avec ses propres conditions et\n",
      "avantages. Il est important de se référer aux textes de loi et de consulter un\n",
      "conseiller fiscal pour obtenir des informations précises sur ces dispositifs. \n",
      "\n",
      "Sources:\n",
      "- document: data/txt/fr_code_general_impot.pdf.txt\n",
      "- position: 212, 223, 234, 245, 256\n"
     ]
    }
   ],
   "source": [
    "print(add_backline(response))"
   ]
  },
  {
   "cell_type": "code",
   "execution_count": null,
   "metadata": {},
   "outputs": [],
   "source": []
  }
 ],
 "metadata": {
  "kernelspec": {
   "display_name": "langchain_env",
   "language": "python",
   "name": "python3"
  },
  "language_info": {
   "codemirror_mode": {
    "name": "ipython",
    "version": 3
   },
   "file_extension": ".py",
   "mimetype": "text/x-python",
   "name": "python",
   "nbconvert_exporter": "python",
   "pygments_lexer": "ipython3",
   "version": "3.8.18"
  }
 },
 "nbformat": 4,
 "nbformat_minor": 2
}
