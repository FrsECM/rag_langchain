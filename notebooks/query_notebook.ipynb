{
 "cells": [
  {
   "cell_type": "markdown",
   "metadata": {},
   "source": [
    "# Query Notebook\n",
    "\n",
    "Dans ce notebook on va interroger la base vectorielle contenant la legislation française pour répondre à des questions juridiques..."
   ]
  },
  {
   "cell_type": "code",
   "execution_count": 7,
   "metadata": {},
   "outputs": [
    {
     "name": "stdout",
     "output_type": "stream",
     "text": [
      "The autoreload extension is already loaded. To reload it, use:\n",
      "  %reload_ext autoreload\n"
     ]
    }
   ],
   "source": [
    "%load_ext autoreload\n",
    "%autoreload 2\n",
    "import sys\n",
    "import os\n",
    "sys.path.insert(0,'../')\n",
    "os.environ['TOKENIZERS_PARALLELISM']='false'\n",
    "from src.rag import RAG_Pipeline\n",
    "\n",
    "pipeline = RAG_Pipeline()\n",
    "pipeline.load(\"../faiss_db/\")\n",
    "\n",
    "def add_backline(text,frequency=15):\n",
    "    res = \"\"\n",
    "    index = 0\n",
    "    for char in str(text):\n",
    "        if char == ' ':\n",
    "            index+=1\n",
    "            if not index%frequency:\n",
    "                res+='\\n'\n",
    "                continue\n",
    "        res+=char\n",
    "    return res"
   ]
  },
  {
   "cell_type": "code",
   "execution_count": 8,
   "metadata": {},
   "outputs": [],
   "source": [
    "question = \"Quelles sont les méthodes de défiscalisation en France ?\"\n",
    "\n",
    "response = pipeline.generate(question,k=50)"
   ]
  },
  {
   "cell_type": "code",
   "execution_count": 11,
   "metadata": {},
   "outputs": [
    {
     "name": "stdout",
     "output_type": "stream",
     "text": [
      "- L'investissement dans l'immobilier locatif, notamment à travers les dispositifs de défiscalisation tels que la loi Pinel, le dispositif Censi-Bouvard et le statut LMNP (Loueur en Meublé Non Professionnel).\n",
      "- La souscription à des produits d'épargne défiscalisés tels que le Plan d'Epargne en Actions (PEA), le Plan d'Epargne Retraite Populaire (PERP), le Plan d'Epargne Logement (PEL) et le Compte Epargne Logement (CEL).\n",
      "- L'investissement dans les Fonds Communs de Placement dans l'Innovation (FCPI) et les Fonds d'Investissement de Proximité (FIP) qui permettent de bénéficier d'une réduction d'impôt.\n",
      "- La réalisation de travaux de rénovation énergétique dans son logement avec le crédit d'impôt pour la transition énergétique (CITE).\n",
      "- L'investissement dans les entreprises innovantes à travers les dispositifs de défiscalisation tels que le Fonds d'Investissement de Proximité (FIP), le Fonds Commun de Placement dans l'Innovation (FCPI) et le dispositif Madelin.\n",
      "- La souscription à des contrats d'assurance-vie, notamment les contrats en unités de compte, qui permettent de bénéficier d'une fiscalité avantageuse en cas de retrait après un certain nombre d'années.\n",
      "- La réalisation de dons à des organismes d'intérêt général ou à des associations, qui permettent de bénéficier d'une réduction d'impôt sur le revenu.\n",
      "- L'investissement dans les produits financiers éligibles au dispositif PEA-PME qui permet de bénéficier d'une exonération d'impôt sur les plus-values à la sortie.\n",
      "- L'investissement dans les produits financiers éligibles au dispositif PEA qui permet de bénéficier d'une exonération d'impôt sur les plus-values à la sortie.\n",
      "- L'investissement dans les produits financiers éligibles au dispositif PEA qui permet de bénéficier d'une exonération d'impôt sur les plus-values à la sortie.\n",
      "- La réalisation d'investissements dans les DOM-TOM à travers les dispositifs de défiscalisation tels que la loi Girardin et la loi Malraux.\n",
      "- La réalisation de dons à des organismes d'intérêt général ou à des associations, qui permettent de bénéficier d'une réduction d'impôt sur le revenu.\n",
      "- L'investissement dans les produits financiers éligibles au dispositif PEA qui permet de bénéficier d'une exonération d'impôt sur les plus-values à la sortie.\n"
     ]
    }
   ],
   "source": [
    "print(response)"
   ]
  },
  {
   "cell_type": "code",
   "execution_count": null,
   "metadata": {},
   "outputs": [],
   "source": []
  }
 ],
 "metadata": {
  "kernelspec": {
   "display_name": "langchain_env",
   "language": "python",
   "name": "python3"
  },
  "language_info": {
   "codemirror_mode": {
    "name": "ipython",
    "version": 3
   },
   "file_extension": ".py",
   "mimetype": "text/x-python",
   "name": "python",
   "nbconvert_exporter": "python",
   "pygments_lexer": "ipython3",
   "version": "3.8.18"
  }
 },
 "nbformat": 4,
 "nbformat_minor": 2
}
