{
 "cells": [
  {
   "cell_type": "code",
   "execution_count": 63,
   "metadata": {},
   "outputs": [
    {
     "name": "stdout",
     "output_type": "stream",
     "text": [
      "The autoreload extension is already loaded. To reload it, use:\n",
      "  %reload_ext autoreload\n"
     ]
    }
   ],
   "source": [
    "%load_ext autoreload\n",
    "%autoreload 2\n",
    "import sys\n",
    "import os\n",
    "sys.path.insert(0,'../')\n",
    "\n",
    "from src.legifrance import LegifranceClient,LegifranceDatabase\n",
    "database = LegifranceDatabase(path='../data/legifrance/database.db')\n",
    "# database.create_database(overwrite=True)\n"
   ]
  },
  {
   "cell_type": "code",
   "execution_count": 64,
   "metadata": {},
   "outputs": [
    {
     "data": {
      "text/plain": [
       "[(LawText(legi_id='LEGITEXT000006071785', title=Code minier),),\n",
       " (LawText(legi_id='LEGITEXT000006070721', title=Code civil),),\n",
       " (LawText(legi_id='LEGITEXT000045476241', title=Code pénitentiaire),),\n",
       " (LawText(legi_id='LEGITEXT000006070719', title=Code pénal),),\n",
       " (LawText(legi_id='LEGITEXT000006070239', title=Code électoral),),\n",
       " (LawText(legi_id='LEGITEXT000006070162', title=Code des communes),),\n",
       " (LawText(legi_id='LEGITEXT000006074073', title=Code du tourisme),),\n",
       " (LawText(legi_id='LEGITEXT000006071570', title=Code des douanes),),\n",
       " (LawText(legi_id='LEGITEXT000006075116', title=Code de l'artisanat),),\n",
       " (LawText(legi_id='LEGITEXT000006073984', title=Code des assurances),),\n",
       " (LawText(legi_id='LEGITEXT000006074236', title=Code du patrimoine),),\n",
       " (LawText(legi_id='LEGITEXT000006071318', title=Code du sport),),\n",
       " (LawText(legi_id='LEGITEXT000005634379', title=Code de commerce),),\n",
       " (LawText(legi_id='LEGITEXT000023983208', title=Code de l'énergie),),\n",
       " (LawText(legi_id='LEGITEXT000006074075', title=Code de l'urbanisme),),\n",
       " (LawText(legi_id='LEGITEXT000006071191', title=Code de l'éducation),),\n",
       " (LawText(legi_id='LEGITEXT000023086525', title=Code des transports),),\n",
       " (LawText(legi_id='LEGITEXT000006074220', title=Code de l'environnement),),\n",
       " (LawText(legi_id='LEGITEXT000006072050', title=Code du travail),),\n",
       " (LawText(legi_id='LEGITEXT000006071366', title=Code rural (ancien)),),\n",
       " (LawText(legi_id='LEGITEXT000025244092', title=Code forestier (nouveau)),),\n",
       " (LawText(legi_id='LEGITEXT000023501962', title=Code minier (nouveau)),),\n",
       " (LawText(legi_id='LEGITEXT000006071190', title=Code de la recherche),),\n",
       " (LawText(legi_id='LEGITEXT000006069565', title=Code de la consommation),),\n",
       " (LawText(legi_id='LEGITEXT000006074067', title=Code de la mutualité),),\n",
       " (LawText(legi_id='LEGITEXT000006071307', title=Code de la défense),),\n",
       " (LawText(legi_id='LEGITEXT000006074228', title=Code de la route),),\n",
       " (LawText(legi_id='LEGITEXT000006074233', title=Code des ports maritimes),),\n",
       " (LawText(legi_id='LEGITEXT000006072051', title=Code du travail maritime),),\n",
       " (LawText(legi_id='LEGITEXT000006071335', title=Code du service national),),\n",
       " (LawText(legi_id='LEGITEXT000006071164', title=Code de l'organisation judiciaire),),\n",
       " (LawText(legi_id='LEGITEXT000006070249', title=Code des juridictions financières),),\n",
       " (LawText(legi_id='LEGITEXT000006070933', title=Code de justice administrative),),\n",
       " (LawText(legi_id='LEGITEXT000006071154', title=Code de procédure pénale),),\n",
       " (LawText(legi_id='LEGITEXT000006074234', title=Code de l'aviation civile),),\n",
       " (LawText(legi_id='LEGITEXT000006070716', title=Code de procédure civile),),\n",
       " (LawText(legi_id='LEGITEXT000006072026', title=Code monétaire et financier),),\n",
       " (LawText(legi_id='LEGITEXT000006069577', title=Code général des impôts),),\n",
       " (LawText(legi_id='LEGITEXT000006074232', title=Code de déontologie des architectes),),\n",
       " (LawText(legi_id='LEGITEXT000006070667', title=Code de la voirie routière),),\n",
       " (LawText(legi_id='LEGITEXT000006071645', title=Code des douanes de Mayotte),),\n",
       " (LawText(legi_id='LEGITEXT000006070208', title=Code du domaine de l'Etat),),\n",
       " (LawText(legi_id='LEGITEXT000037701019', title=Code de la commande publique),),\n",
       " (LawText(legi_id='LEGITEXT000006069414', title=Code de la propriété intellectuelle),),\n",
       " (LawText(legi_id='LEGITEXT000025503132', title=Code de la sécurité intérieure),),\n",
       " (LawText(legi_id='LEGITEXT000006073189', title=Code de la sécurité sociale),),\n",
       " (LawText(legi_id='LEGITEXT000006072665', title=Code de la santé publique),),\n",
       " (LawText(legi_id='LEGITEXT000006071360', title=Code de justice militaire (nouveau)),),\n",
       " (LawText(legi_id='LEGITEXT000025024948', title=Code des procédures civiles d'exécution),),\n",
       " (LawText(legi_id='LEGITEXT000006070633', title=Code général des collectivités territoriales),)]"
      ]
     },
     "execution_count": 64,
     "metadata": {},
     "output_type": "execute_result"
    }
   ],
   "source": [
    "from src.legifrance.orm import Article,Section,LawText\n",
    "from sqlalchemy import select\n",
    "\n",
    "select_texts = select(LawText)\n",
    "texts = database.session.execute(select_texts).all()\n",
    "texts"
   ]
  },
  {
   "cell_type": "code",
   "execution_count": 65,
   "metadata": {},
   "outputs": [
    {
     "data": {
      "text/plain": [
       "LawText(legi_id='LEGITEXT000006070719', title=Code pénal)"
      ]
     },
     "execution_count": 65,
     "metadata": {},
     "output_type": "execute_result"
    }
   ],
   "source": [
    "select_texts = select(LawText).where(LawText.legi_id=='LEGITEXT000006070719')\n",
    "text = database.session.execute(select_texts).first()[0]\n",
    "text"
   ]
  },
  {
   "cell_type": "code",
   "execution_count": null,
   "metadata": {},
   "outputs": [],
   "source": []
  },
  {
   "cell_type": "code",
   "execution_count": 66,
   "metadata": {},
   "outputs": [],
   "source": [
    "select_sections = select(Section).where(Section.lawtext==text)\n",
    "sections = database.session.execute(select_sections).all()"
   ]
  },
  {
   "cell_type": "markdown",
   "metadata": {},
   "source": [
    "Test suppression en cascade..."
   ]
  },
  {
   "cell_type": "code",
   "execution_count": 67,
   "metadata": {},
   "outputs": [
    {
     "data": {
      "text/plain": [
       "LawText(legi_id='LEGITEXT000006071785', title=Code minier)"
      ]
     },
     "execution_count": 67,
     "metadata": {},
     "output_type": "execute_result"
    }
   ],
   "source": [
    "select_texts = select(LawText).where(LawText.legi_id=='LEGITEXT000006071785')\n",
    "text = database.session.execute(select_texts).first()[0]\n",
    "text"
   ]
  },
  {
   "cell_type": "code",
   "execution_count": 68,
   "metadata": {},
   "outputs": [
    {
     "data": {
      "text/plain": [
       "[Article(legi_id='LEGIARTI000006627108', title=None),\n",
       " Article(legi_id='LEGIARTI000006627110', title=None),\n",
       " Article(legi_id='LEGIARTI000006627112', title=None),\n",
       " Article(legi_id='LEGIARTI000006627113', title=None),\n",
       " Article(legi_id='LEGIARTI000022964298', title=None),\n",
       " Article(legi_id='LEGIARTI000022494495', title=None),\n",
       " Article(legi_id='LEGIARTI000022483143', title=None),\n",
       " Article(legi_id='LEGIARTI000021948636', title=None),\n",
       " Article(legi_id='LEGIARTI000006627120', title=None),\n",
       " Article(legi_id='LEGIARTI000006627121', title=None),\n",
       " Article(legi_id='LEGIARTI000006627126', title=None),\n",
       " Article(legi_id='LEGIARTI000006627128', title=None),\n",
       " Article(legi_id='LEGIARTI000006627130', title=None),\n",
       " Article(legi_id='LEGIARTI000006627131', title=None),\n",
       " Article(legi_id='LEGIARTI000006627132', title=None),\n",
       " Article(legi_id='LEGIARTI000006627133', title=None),\n",
       " Article(legi_id='LEGIARTI000006627134', title=None),\n",
       " Article(legi_id='LEGIARTI000006627135', title=None),\n",
       " Article(legi_id='LEGIARTI000006627136', title=None),\n",
       " Article(legi_id='LEGIARTI000006627137', title=None),\n",
       " Article(legi_id='LEGIARTI000006627139', title=None),\n",
       " Article(legi_id='LEGIARTI000006627140', title=None),\n",
       " Article(legi_id='LEGIARTI000006627141', title=None),\n",
       " Article(legi_id='LEGIARTI000006627144', title=None),\n",
       " Article(legi_id='LEGIARTI000006627145', title=None),\n",
       " Article(legi_id='LEGIARTI000006627146', title=None),\n",
       " Article(legi_id='LEGIARTI000006627148', title=None),\n",
       " Article(legi_id='LEGIARTI000022483149', title=None),\n",
       " Article(legi_id='LEGIARTI000006627153', title=None),\n",
       " Article(legi_id='LEGIARTI000006627155', title=None),\n",
       " Article(legi_id='LEGIARTI000006627157', title=None),\n",
       " Article(legi_id='LEGIARTI000006627159', title=None),\n",
       " Article(legi_id='LEGIARTI000006627160', title=None),\n",
       " Article(legi_id='LEGIARTI000006627161', title=None),\n",
       " Article(legi_id='LEGIARTI000006627163', title=None),\n",
       " Article(legi_id='LEGIARTI000006627164', title=None),\n",
       " Article(legi_id='LEGIARTI000006627165', title=None),\n",
       " Article(legi_id='LEGIARTI000006627166', title=None),\n",
       " Article(legi_id='LEGIARTI000006627167', title=None),\n",
       " Article(legi_id='LEGIARTI000006627168', title=None),\n",
       " Article(legi_id='LEGIARTI000006627170', title=None),\n",
       " Article(legi_id='LEGIARTI000006627171', title=None),\n",
       " Article(legi_id='LEGIARTI000006627172', title=None),\n",
       " Article(legi_id='LEGIARTI000006627173', title=None),\n",
       " Article(legi_id='LEGIARTI000006627174', title=None),\n",
       " Article(legi_id='LEGIARTI000006627175', title=None),\n",
       " Article(legi_id='LEGIARTI000006627176', title=None),\n",
       " Article(legi_id='LEGIARTI000006627177', title=None),\n",
       " Article(legi_id='LEGIARTI000006627178', title=None),\n",
       " Article(legi_id='LEGIARTI000006627180', title=None),\n",
       " Article(legi_id='LEGIARTI000006627181', title=None),\n",
       " Article(legi_id='LEGIARTI000006627182', title=None),\n",
       " Article(legi_id='LEGIARTI000006627184', title=None),\n",
       " Article(legi_id='LEGIARTI000006627186', title=None),\n",
       " Article(legi_id='LEGIARTI000006627185', title=None),\n",
       " Article(legi_id='LEGIARTI000022483162', title=None),\n",
       " Article(legi_id='LEGIARTI000006627189', title=None),\n",
       " Article(legi_id='LEGIARTI000006627190', title=None),\n",
       " Article(legi_id='LEGIARTI000006627192', title=None),\n",
       " Article(legi_id='LEGIARTI000006627193', title=None),\n",
       " Article(legi_id='LEGIARTI000006627194', title=None),\n",
       " Article(legi_id='LEGIARTI000006627195', title=None),\n",
       " Article(legi_id='LEGIARTI000006627196', title=None),\n",
       " Article(legi_id='LEGIARTI000006627197', title=None),\n",
       " Article(legi_id='LEGIARTI000006627198', title=None),\n",
       " Article(legi_id='LEGIARTI000006627199', title=None),\n",
       " Article(legi_id='LEGIARTI000006627200', title=None),\n",
       " Article(legi_id='LEGIARTI000006627201', title=None),\n",
       " Article(legi_id='LEGIARTI000006627202', title=None),\n",
       " Article(legi_id='LEGIARTI000006627203', title=None),\n",
       " Article(legi_id='LEGIARTI000006627204', title=None),\n",
       " Article(legi_id='LEGIARTI000006627205', title=None),\n",
       " Article(legi_id='LEGIARTI000006627206', title=None),\n",
       " Article(legi_id='LEGIARTI000006627207', title=None),\n",
       " Article(legi_id='LEGIARTI000006627208', title=None),\n",
       " Article(legi_id='LEGIARTI000022495205', title=None),\n",
       " Article(legi_id='LEGIARTI000006627212', title=None),\n",
       " Article(legi_id='LEGIARTI000006627213', title=None),\n",
       " Article(legi_id='LEGIARTI000006627214', title=None),\n",
       " Article(legi_id='LEGIARTI000006627215', title=None),\n",
       " Article(legi_id='LEGIARTI000006627217', title=None),\n",
       " Article(legi_id='LEGIARTI000006627218', title=None),\n",
       " Article(legi_id='LEGIARTI000022483179', title=None),\n",
       " Article(legi_id='LEGIARTI000006627220', title=None),\n",
       " Article(legi_id='LEGIARTI000006627222', title=None),\n",
       " Article(legi_id='LEGIARTI000006627224', title=None),\n",
       " Article(legi_id='LEGIARTI000006627225', title=None),\n",
       " Article(legi_id='LEGIARTI000006627226', title=None),\n",
       " Article(legi_id='LEGIARTI000006627228', title=None),\n",
       " Article(legi_id='LEGIARTI000006627229', title=None),\n",
       " Article(legi_id='LEGIARTI000006627230', title=None),\n",
       " Article(legi_id='LEGIARTI000006627231', title=None),\n",
       " Article(legi_id='LEGIARTI000034110597', title=None),\n",
       " Article(legi_id='LEGIARTI000006627233', title=None),\n",
       " Article(legi_id='LEGIARTI000022496006', title=None),\n",
       " Article(legi_id='LEGIARTI000006627235', title=None),\n",
       " Article(legi_id='LEGIARTI000006627236', title=None),\n",
       " Article(legi_id='LEGIARTI000006627237', title=None),\n",
       " Article(legi_id='LEGIARTI000006627238', title=None),\n",
       " Article(legi_id='LEGIARTI000006627240', title=None),\n",
       " Article(legi_id='LEGIARTI000006627241', title=None),\n",
       " Article(legi_id='LEGIARTI000006627242', title=None),\n",
       " Article(legi_id='LEGIARTI000006627243', title=None),\n",
       " Article(legi_id='LEGIARTI000006627244', title=None),\n",
       " Article(legi_id='LEGIARTI000006627245', title=None),\n",
       " Article(legi_id='LEGIARTI000006627246', title=None),\n",
       " Article(legi_id='LEGIARTI000006627247', title=None),\n",
       " Article(legi_id='LEGIARTI000006627248', title=None),\n",
       " Article(legi_id='LEGIARTI000006627249', title=None),\n",
       " Article(legi_id='LEGIARTI000006627250', title=None),\n",
       " Article(legi_id='LEGIARTI000006627251', title=None),\n",
       " Article(legi_id='LEGIARTI000006627252', title=None),\n",
       " Article(legi_id='LEGIARTI000006627254', title=None),\n",
       " Article(legi_id='LEGIARTI000006627256', title=None),\n",
       " Article(legi_id='LEGIARTI000006627257', title=None),\n",
       " Article(legi_id='LEGIARTI000006627259', title=None),\n",
       " Article(legi_id='LEGIARTI000006627261', title=None),\n",
       " Article(legi_id='LEGIARTI000006627263', title=None),\n",
       " Article(legi_id='LEGIARTI000006627264', title=None),\n",
       " Article(legi_id='LEGIARTI000006627267', title=None),\n",
       " Article(legi_id='LEGIARTI000006627268', title=None),\n",
       " Article(legi_id='LEGIARTI000006627269', title=None),\n",
       " Article(legi_id='LEGIARTI000021948633', title=None),\n",
       " Article(legi_id='LEGIARTI000006627272', title=None),\n",
       " Article(legi_id='LEGIARTI000022483190', title=None),\n",
       " Article(legi_id='LEGIARTI000022479205', title=None),\n",
       " Article(legi_id='LEGIARTI000006627276', title=None),\n",
       " Article(legi_id='LEGIARTI000006627279', title=None),\n",
       " Article(legi_id='LEGIARTI000006627281', title=None),\n",
       " Article(legi_id='LEGIARTI000006627282', title=None),\n",
       " Article(legi_id='LEGIARTI000006627284', title=None),\n",
       " Article(legi_id='LEGIARTI000006627288', title=None),\n",
       " Article(legi_id='LEGIARTI000006627292', title=None),\n",
       " Article(legi_id='LEGIARTI000006627293', title=None),\n",
       " Article(legi_id='LEGIARTI000006627239', title=None),\n",
       " Article(legi_id='LEGIARTI000006627294', title=None),\n",
       " Article(legi_id='LEGIARTI000006627295', title=None),\n",
       " Article(legi_id='LEGIARTI000006627297', title=None),\n",
       " Article(legi_id='LEGIARTI000006627299', title=None),\n",
       " Article(legi_id='LEGIARTI000006627301', title=None),\n",
       " Article(legi_id='LEGIARTI000006627304', title=None),\n",
       " Article(legi_id='LEGIARTI000006627306', title=None),\n",
       " Article(legi_id='LEGIARTI000006627308', title=None),\n",
       " Article(legi_id='LEGIARTI000006627296', title=None),\n",
       " Article(legi_id='LEGIARTI000006627298', title=None),\n",
       " Article(legi_id='LEGIARTI000006627300', title=None),\n",
       " Article(legi_id='LEGIARTI000006627303', title=None),\n",
       " Article(legi_id='LEGIARTI000006627305', title=None),\n",
       " Article(legi_id='LEGIARTI000006627307', title=None),\n",
       " Article(legi_id='LEGIARTI000022483208', title=None),\n",
       " Article(legi_id='LEGIARTI000006627311', title=None),\n",
       " Article(legi_id='LEGIARTI000006627313', title=None),\n",
       " Article(legi_id='LEGIARTI000006627314', title=None),\n",
       " Article(legi_id='LEGIARTI000006627315', title=None),\n",
       " Article(legi_id='LEGIARTI000006627316', title=None),\n",
       " Article(legi_id='LEGIARTI000006627317', title=None),\n",
       " Article(legi_id='LEGIARTI000006627318', title=None),\n",
       " Article(legi_id='LEGIARTI000022964300', title=None),\n",
       " Article(legi_id='LEGIARTI000006627323', title=None),\n",
       " Article(legi_id='LEGIARTI000006627325', title=None),\n",
       " Article(legi_id='LEGIARTI000006627326', title=None),\n",
       " Article(legi_id='LEGIARTI000006627327', title=None),\n",
       " Article(legi_id='LEGIARTI000006627328', title=None),\n",
       " Article(legi_id='LEGIARTI000006627329', title=None),\n",
       " Article(legi_id='LEGIARTI000006627330', title=None),\n",
       " Article(legi_id='LEGIARTI000006627331', title=None),\n",
       " Article(legi_id='LEGIARTI000006627332', title=None),\n",
       " Article(legi_id='LEGIARTI000006627334', title=None),\n",
       " Article(legi_id='LEGIARTI000006627338', title=None),\n",
       " Article(legi_id='LEGIARTI000006627339', title=None),\n",
       " Article(legi_id='LEGIARTI000006627340', title=None),\n",
       " Article(legi_id='LEGIARTI000006627341', title=None),\n",
       " Article(legi_id='LEGIARTI000022483212', title=None),\n",
       " Article(legi_id='LEGIARTI000023518706', title=None),\n",
       " Article(legi_id='LEGIARTI000006627347', title=None),\n",
       " Article(legi_id='LEGIARTI000006627350', title=None),\n",
       " Article(legi_id='LEGIARTI000006627353', title=None),\n",
       " Article(legi_id='LEGIARTI000006627358', title=None),\n",
       " Article(legi_id='LEGIARTI000006627362', title=None),\n",
       " Article(legi_id='LEGIARTI000006627365', title=None),\n",
       " Article(legi_id='LEGIARTI000006627368', title=None),\n",
       " Article(legi_id='LEGIARTI000006627371', title=None),\n",
       " Article(legi_id='LEGIARTI000006627372', title=None),\n",
       " Article(legi_id='LEGIARTI000006627375', title=None),\n",
       " Article(legi_id='LEGIARTI000006627377', title=None),\n",
       " Article(legi_id='LEGIARTI000006627382', title=None),\n",
       " Article(legi_id='LEGIARTI000006627385', title=None),\n",
       " Article(legi_id='LEGIARTI000006627386', title=None),\n",
       " Article(legi_id='LEGIARTI000006627387', title=None),\n",
       " Article(legi_id='LEGIARTI000006627391', title=None),\n",
       " Article(legi_id='LEGIARTI000006627392', title=None),\n",
       " Article(legi_id='LEGIARTI000006627394', title=None),\n",
       " Article(legi_id='LEGIARTI000006627395', title=None),\n",
       " Article(legi_id='LEGIARTI000006627398', title=None),\n",
       " Article(legi_id='LEGIARTI000006627399', title=None),\n",
       " Article(legi_id='LEGIARTI000006627402', title=None),\n",
       " Article(legi_id='LEGIARTI000006627404', title=None),\n",
       " Article(legi_id='LEGIARTI000006627405', title=None),\n",
       " Article(legi_id='LEGIARTI000006627408', title=None),\n",
       " Article(legi_id='LEGIARTI000006627410', title=None),\n",
       " Article(legi_id='LEGIARTI000006627412', title=None),\n",
       " Article(legi_id='LEGIARTI000006627413', title=None),\n",
       " Article(legi_id='LEGIARTI000006627415', title=None),\n",
       " Article(legi_id='LEGIARTI000006627417', title=None),\n",
       " Article(legi_id='LEGIARTI000006627420', title=None),\n",
       " Article(legi_id='LEGIARTI000006627425', title=None),\n",
       " Article(legi_id='LEGIARTI000006627426', title=None),\n",
       " Article(legi_id='LEGIARTI000006627428', title=None),\n",
       " Article(legi_id='LEGIARTI000006627429', title=None),\n",
       " Article(legi_id='LEGIARTI000006627430', title=None),\n",
       " Article(legi_id='LEGIARTI000006627431', title=None),\n",
       " Article(legi_id='LEGIARTI000006627432', title=None),\n",
       " Article(legi_id='LEGIARTI000006627434', title=None),\n",
       " Article(legi_id='LEGIARTI000006627435', title=None),\n",
       " Article(legi_id='LEGIARTI000006627436', title=None),\n",
       " Article(legi_id='LEGIARTI000006627439', title=None),\n",
       " Article(legi_id='LEGIARTI000023518704', title=None),\n",
       " Article(legi_id='LEGIARTI000020675900', title=None),\n",
       " Article(legi_id='LEGIARTI000020675894', title=None),\n",
       " Article(legi_id='LEGIARTI000020675891', title=None),\n",
       " Article(legi_id='LEGIARTI000020675888', title=None),\n",
       " Article(legi_id='LEGIARTI000006627451', title=None),\n",
       " Article(legi_id='LEGIARTI000006627452', title=None),\n",
       " Article(legi_id='LEGIARTI000020675882', title=None),\n",
       " Article(legi_id='LEGIARTI000006627455', title=None),\n",
       " Article(legi_id='LEGIARTI000020675879', title=None),\n",
       " Article(legi_id='LEGIARTI000006627458', title=None),\n",
       " Article(legi_id='LEGIARTI000006627460', title=None),\n",
       " Article(legi_id='LEGIARTI000023518701', title=None),\n",
       " Article(legi_id='LEGIARTI000006627461', title=None),\n",
       " Article(legi_id='LEGIARTI000023518698', title=None),\n",
       " Article(legi_id='LEGIARTI000006627465', title=None),\n",
       " Article(legi_id='LEGIARTI000006627466', title=None),\n",
       " Article(legi_id='LEGIARTI000006627467', title=None),\n",
       " Article(legi_id='LEGIARTI000006627468', title=None),\n",
       " Article(legi_id='LEGIARTI000006627469', title=None),\n",
       " Article(legi_id='LEGIARTI000006627470', title=None),\n",
       " Article(legi_id='LEGIARTI000006627471', title=None),\n",
       " Article(legi_id='LEGIARTI000006627472', title=None),\n",
       " Article(legi_id='LEGIARTI000006627473', title=None),\n",
       " Article(legi_id='LEGIARTI000006627474', title=None),\n",
       " Article(legi_id='LEGIARTI000006627475', title=None),\n",
       " Article(legi_id='LEGIARTI000006627476', title=None),\n",
       " Article(legi_id='LEGIARTI000006627477', title=None),\n",
       " Article(legi_id='LEGIARTI000006627478', title=None),\n",
       " Article(legi_id='LEGIARTI000006627481', title=None),\n",
       " Article(legi_id='LEGIARTI000006627482', title=None),\n",
       " Article(legi_id='LEGIARTI000006627483', title=None),\n",
       " Article(legi_id='LEGIARTI000006627484', title=None),\n",
       " Article(legi_id='LEGIARTI000006627485', title=None),\n",
       " Article(legi_id='LEGIARTI000006627486', title=None),\n",
       " Article(legi_id='LEGIARTI000006627489', title=None),\n",
       " Article(legi_id='LEGIARTI000006627490', title=None),\n",
       " Article(legi_id='LEGIARTI000006627491', title=None),\n",
       " Article(legi_id='LEGIARTI000006627493', title=None),\n",
       " Article(legi_id='LEGIARTI000006627494', title=None),\n",
       " Article(legi_id='LEGIARTI000006627495', title=None),\n",
       " Article(legi_id='LEGIARTI000006627496', title=None),\n",
       " Article(legi_id='LEGIARTI000006627497', title=None),\n",
       " Article(legi_id='LEGIARTI000006627498', title=None),\n",
       " Article(legi_id='LEGIARTI000006627499', title=None),\n",
       " Article(legi_id='LEGIARTI000006627500', title=None),\n",
       " Article(legi_id='LEGIARTI000006627501', title=None),\n",
       " Article(legi_id='LEGIARTI000006627502', title=None),\n",
       " Article(legi_id='LEGIARTI000006627504', title=None),\n",
       " Article(legi_id='LEGIARTI000006627505', title=None),\n",
       " Article(legi_id='LEGIARTI000006627506', title=None),\n",
       " Article(legi_id='LEGIARTI000006627507', title=None),\n",
       " Article(legi_id='LEGIARTI000006627508', title=None),\n",
       " Article(legi_id='LEGIARTI000006627509', title=None),\n",
       " Article(legi_id='LEGIARTI000006627510', title=None),\n",
       " Article(legi_id='LEGIARTI000006627511', title=None),\n",
       " Article(legi_id='LEGIARTI000006627512', title=None),\n",
       " Article(legi_id='LEGIARTI000006627513', title=None),\n",
       " Article(legi_id='LEGIARTI000006627514', title=None),\n",
       " Article(legi_id='LEGIARTI000006627515', title=None),\n",
       " Article(legi_id='LEGIARTI000006627516', title=None),\n",
       " Article(legi_id='LEGIARTI000006627517', title=None),\n",
       " Article(legi_id='LEGIARTI000006627518', title=None),\n",
       " Article(legi_id='LEGIARTI000006627519', title=None),\n",
       " Article(legi_id='LEGIARTI000006627521', title=None),\n",
       " Article(legi_id='LEGIARTI000006627522', title=None),\n",
       " Article(legi_id='LEGIARTI000006627523', title=None),\n",
       " Article(legi_id='LEGIARTI000006627524', title=None),\n",
       " Article(legi_id='LEGIARTI000006627525', title=None),\n",
       " Article(legi_id='LEGIARTI000006627526', title=None),\n",
       " Article(legi_id='LEGIARTI000006627527', title=None),\n",
       " Article(legi_id='LEGIARTI000006627528', title=None),\n",
       " Article(legi_id='LEGIARTI000006627529', title=None),\n",
       " Article(legi_id='LEGIARTI000006627530', title=None),\n",
       " Article(legi_id='LEGIARTI000006627532', title=None),\n",
       " Article(legi_id='LEGIARTI000006627533', title=None),\n",
       " Article(legi_id='LEGIARTI000006627534', title=None),\n",
       " Article(legi_id='LEGIARTI000018052107', title=None),\n",
       " Article(legi_id='LEGIARTI000006627536', title=None),\n",
       " Article(legi_id='LEGIARTI000006627537', title=None),\n",
       " Article(legi_id='LEGIARTI000018266633', title=None),\n",
       " Article(legi_id='LEGIARTI000018266631', title=None),\n",
       " Article(legi_id='LEGIARTI000018266628', title=None),\n",
       " Article(legi_id='LEGIARTI000018266626', title=None),\n",
       " Article(legi_id='LEGIARTI000018266622', title=None),\n",
       " Article(legi_id='LEGIARTI000006627540', title=None),\n",
       " Article(legi_id='LEGIARTI000006627541', title=None),\n",
       " Article(legi_id='LEGIARTI000006627542', title=None),\n",
       " Article(legi_id='LEGIARTI000006627543', title=None),\n",
       " Article(legi_id='LEGIARTI000006627544', title=None),\n",
       " Article(legi_id='LEGIARTI000006627545', title=None),\n",
       " Article(legi_id='LEGIARTI000006627546', title=None),\n",
       " Article(legi_id='LEGIARTI000018266713', title=None),\n",
       " Article(legi_id='LEGIARTI000018266709', title=None),\n",
       " Article(legi_id='LEGIARTI000018266704', title=None),\n",
       " Article(legi_id='LEGIARTI000018266701', title=None),\n",
       " Article(legi_id='LEGIARTI000018266699', title=None),\n",
       " Article(legi_id='LEGIARTI000018266697', title=None),\n",
       " Article(legi_id='LEGIARTI000018266694', title=None),\n",
       " Article(legi_id='LEGIARTI000018266691', title=None),\n",
       " Article(legi_id='LEGIARTI000018266688', title=None),\n",
       " Article(legi_id='LEGIARTI000018266686', title=None),\n",
       " Article(legi_id='LEGIARTI000018266680', title=None),\n",
       " Article(legi_id='LEGIARTI000018266678', title=None),\n",
       " Article(legi_id='LEGIARTI000018266675', title=None),\n",
       " Article(legi_id='LEGIARTI000018266673', title=None),\n",
       " Article(legi_id='LEGIARTI000018266671', title=None),\n",
       " Article(legi_id='LEGIARTI000018266668', title=None),\n",
       " Article(legi_id='LEGIARTI000018266665', title=None),\n",
       " Article(legi_id='LEGIARTI000018266663', title=None),\n",
       " Article(legi_id='LEGIARTI000018266660', title=None),\n",
       " Article(legi_id='LEGIARTI000018266657', title=None),\n",
       " Article(legi_id='LEGIARTI000018266655', title=None),\n",
       " Article(legi_id='LEGIARTI000018266652', title=None),\n",
       " Article(legi_id='LEGIARTI000018266650', title=None),\n",
       " Article(legi_id='LEGIARTI000018266647', title=None),\n",
       " Article(legi_id='LEGIARTI000018266645', title=None),\n",
       " Article(legi_id='LEGIARTI000018266643', title=None),\n",
       " Article(legi_id='LEGIARTI000018266641', title=None),\n",
       " Article(legi_id='LEGIARTI000018266639', title=None),\n",
       " Article(legi_id='LEGIARTI000018266636', title=None),\n",
       " Article(legi_id='LEGIARTI000006627547', title=None),\n",
       " Article(legi_id='LEGIARTI000006627548', title=None),\n",
       " Article(legi_id='LEGIARTI000006627549', title=None),\n",
       " Article(legi_id='LEGIARTI000006627550', title=None),\n",
       " Article(legi_id='LEGIARTI000006627551', title=None),\n",
       " Article(legi_id='LEGIARTI000006627552', title=None),\n",
       " Article(legi_id='LEGIARTI000018266725', title=None),\n",
       " Article(legi_id='LEGIARTI000018266723', title=None),\n",
       " Article(legi_id='LEGIARTI000018266721', title=None),\n",
       " Article(legi_id='LEGIARTI000018266719', title=None),\n",
       " Article(legi_id='LEGIARTI000018266717', title=None),\n",
       " Article(legi_id='LEGIARTI000018266715', title=None),\n",
       " Article(legi_id='LEGIARTI000006627553', title=None),\n",
       " Article(legi_id='LEGIARTI000006627554', title=None),\n",
       " Article(legi_id='LEGIARTI000018266736', title=None),\n",
       " Article(legi_id='LEGIARTI000018266732', title=None),\n",
       " Article(legi_id='LEGIARTI000018266729', title=None),\n",
       " Article(legi_id='LEGIARTI000018266727', title=None),\n",
       " Article(legi_id='LEGIARTI000006627555', title=None),\n",
       " Article(legi_id='LEGIARTI000006627556', title=None),\n",
       " Article(legi_id='LEGIARTI000006627557', title=None),\n",
       " Article(legi_id='LEGIARTI000006627558', title=None),\n",
       " Article(legi_id='LEGIARTI000006627559', title=None),\n",
       " Article(legi_id='LEGIARTI000006627560', title=None),\n",
       " Article(legi_id='LEGIARTI000006627561', title=None),\n",
       " Article(legi_id='LEGIARTI000006627562', title=None),\n",
       " Article(legi_id='LEGIARTI000006627563', title=None),\n",
       " Article(legi_id='LEGIARTI000006627564', title=None),\n",
       " Article(legi_id='LEGIARTI000006627565', title=None),\n",
       " Article(legi_id='LEGIARTI000006627566', title=None),\n",
       " Article(legi_id='LEGIARTI000006627567', title=None),\n",
       " Article(legi_id='LEGIARTI000006627568', title=None),\n",
       " Article(legi_id='LEGIARTI000006627569', title=None),\n",
       " Article(legi_id='LEGIARTI000018266763', title=None),\n",
       " Article(legi_id='LEGIARTI000018266761', title=None),\n",
       " Article(legi_id='LEGIARTI000018266759', title=None),\n",
       " Article(legi_id='LEGIARTI000018266754', title=None),\n",
       " Article(legi_id='LEGIARTI000018266752', title=None),\n",
       " Article(legi_id='LEGIARTI000018266749', title=None),\n",
       " Article(legi_id='LEGIARTI000018266746', title=None),\n",
       " Article(legi_id='LEGIARTI000018266744', title=None),\n",
       " Article(legi_id='LEGIARTI000018266742', title=None),\n",
       " Article(legi_id='LEGIARTI000018266739', title=None),\n",
       " Article(legi_id='LEGIARTI000006627570', title=None),\n",
       " Article(legi_id='LEGIARTI000006627571', title=None),\n",
       " Article(legi_id='LEGIARTI000006627572', title=None),\n",
       " Article(legi_id='LEGIARTI000006627574', title=None),\n",
       " Article(legi_id='LEGIARTI000006627575', title=None),\n",
       " Article(legi_id='LEGIARTI000006627576', title=None),\n",
       " Article(legi_id='LEGIARTI000006627577', title=None),\n",
       " Article(legi_id='LEGIARTI000006627578', title=None),\n",
       " Article(legi_id='LEGIARTI000006627579', title=None),\n",
       " Article(legi_id='LEGIARTI000018266599', title=None),\n",
       " Article(legi_id='LEGIARTI000006627580', title=None),\n",
       " Article(legi_id='LEGIARTI000018266882', title=None),\n",
       " Article(legi_id='LEGIARTI000018266879', title=None),\n",
       " Article(legi_id='LEGIARTI000018266876', title=None),\n",
       " Article(legi_id='LEGIARTI000018266873', title=None),\n",
       " Article(legi_id='LEGIARTI000018266871', title=None),\n",
       " Article(legi_id='LEGIARTI000018266869', title=None),\n",
       " Article(legi_id='LEGIARTI000018266867', title=None),\n",
       " Article(legi_id='LEGIARTI000018266865', title=None),\n",
       " Article(legi_id='LEGIARTI000018266863', title=None),\n",
       " Article(legi_id='LEGIARTI000018266861', title=None),\n",
       " Article(legi_id='LEGIARTI000018266859', title=None),\n",
       " Article(legi_id='LEGIARTI000018266856', title=None),\n",
       " Article(legi_id='LEGIARTI000018266852', title=None),\n",
       " Article(legi_id='LEGIARTI000018266849', title=None),\n",
       " Article(legi_id='LEGIARTI000018266847', title=None),\n",
       " Article(legi_id='LEGIARTI000018266843', title=None),\n",
       " Article(legi_id='LEGIARTI000018266840', title=None),\n",
       " Article(legi_id='LEGIARTI000018266835', title=None),\n",
       " Article(legi_id='LEGIARTI000018266832', title=None),\n",
       " Article(legi_id='LEGIARTI000018266830', title=None),\n",
       " Article(legi_id='LEGIARTI000018266828', title=None),\n",
       " Article(legi_id='LEGIARTI000018266826', title=None),\n",
       " Article(legi_id='LEGIARTI000018266821', title=None),\n",
       " Article(legi_id='LEGIARTI000018266819', title=None),\n",
       " Article(legi_id='LEGIARTI000018266817', title=None),\n",
       " Article(legi_id='LEGIARTI000018266815', title=None),\n",
       " Article(legi_id='LEGIARTI000018266811', title=None),\n",
       " Article(legi_id='LEGIARTI000018266808', title=None),\n",
       " Article(legi_id='LEGIARTI000018266804', title=None),\n",
       " Article(legi_id='LEGIARTI000018266800', title=None),\n",
       " Article(legi_id='LEGIARTI000018266796', title=None),\n",
       " Article(legi_id='LEGIARTI000018266792', title=None),\n",
       " Article(legi_id='LEGIARTI000018266787', title=None),\n",
       " Article(legi_id='LEGIARTI000018266784', title=None),\n",
       " Article(legi_id='LEGIARTI000018266779', title=None),\n",
       " Article(legi_id='LEGIARTI000018266775', title=None),\n",
       " Article(legi_id='LEGIARTI000018266771', title=None),\n",
       " Article(legi_id='LEGIARTI000018266768', title=None),\n",
       " Article(legi_id='LEGIARTI000018266766', title=None),\n",
       " Article(legi_id='LEGIARTI000006627581', title=None),\n",
       " Article(legi_id='LEGIARTI000018266916', title=None),\n",
       " Article(legi_id='LEGIARTI000018266908', title=None),\n",
       " Article(legi_id='LEGIARTI000018266906', title=None),\n",
       " Article(legi_id='LEGIARTI000018266903', title=None),\n",
       " Article(legi_id='LEGIARTI000018266900', title=None),\n",
       " Article(legi_id='LEGIARTI000018266898', title=None),\n",
       " Article(legi_id='LEGIARTI000018266896', title=None),\n",
       " Article(legi_id='LEGIARTI000018266894', title=None),\n",
       " Article(legi_id='LEGIARTI000018266891', title=None),\n",
       " Article(legi_id='LEGIARTI000018266889', title=None),\n",
       " Article(legi_id='LEGIARTI000018266887', title=None),\n",
       " Article(legi_id='LEGIARTI000018266885', title=None),\n",
       " Article(legi_id='LEGIARTI000006627583', title=None),\n",
       " Article(legi_id='LEGIARTI000020630527', title=None),\n",
       " Article(legi_id='LEGIARTI000020630532', title=None),\n",
       " Article(legi_id='LEGIARTI000018266618', title=None),\n",
       " Article(legi_id='LEGIARTI000018266614', title=None),\n",
       " Article(legi_id='LEGIARTI000018266611', title=None),\n",
       " Article(legi_id='LEGIARTI000018266608', title=None),\n",
       " Article(legi_id='LEGIARTI000018266602', title=None)]"
      ]
     },
     "execution_count": 68,
     "metadata": {},
     "output_type": "execute_result"
    }
   ],
   "source": [
    "text.get_articles()"
   ]
  },
  {
   "cell_type": "code",
   "execution_count": 69,
   "metadata": {},
   "outputs": [],
   "source": [
    "from sqlalchemy import delete\n",
    "\n",
    "delete_query = delete(LawText).where(LawText.legi_id=='LEGITEXT000006071785')\n",
    "database.session.execute(delete_query)\n",
    "database.commit()"
   ]
  },
  {
   "cell_type": "code",
   "execution_count": 70,
   "metadata": {},
   "outputs": [
    {
     "data": {
      "text/plain": [
       "True"
      ]
     },
     "execution_count": 70,
     "metadata": {},
     "output_type": "execute_result"
    }
   ],
   "source": [
    "select_texts = select(LawText).where(LawText.legi_id=='LEGITEXT000006071785')\n",
    "database.session.execute(select_texts).first() == None"
   ]
  },
  {
   "cell_type": "code",
   "execution_count": 71,
   "metadata": {},
   "outputs": [
    {
     "ename": "TypeError",
     "evalue": "'NoneType' object is not subscriptable",
     "output_type": "error",
     "traceback": [
      "\u001b[0;31m---------------------------------------------------------------------------\u001b[0m",
      "\u001b[0;31mTypeError\u001b[0m                                 Traceback (most recent call last)",
      "\u001b[1;32m/mnt/c/BUSCODE/perso/langchain_law/notebooks/test_legifrance_database.ipynb Cell 11\u001b[0m line \u001b[0;36m2\n\u001b[1;32m      <a href='vscode-notebook-cell://wsl%2Bubuntu-20.04/mnt/c/BUSCODE/perso/langchain_law/notebooks/test_legifrance_database.ipynb#X41sdnNjb2RlLXJlbW90ZQ%3D%3D?line=0'>1</a>\u001b[0m select_articles \u001b[39m=\u001b[39m select(Article)\u001b[39m.\u001b[39mwhere(Article\u001b[39m.\u001b[39mlegi_id\u001b[39m==\u001b[39m\u001b[39m'\u001b[39m\u001b[39mLEGIARTI000006627140\u001b[39m\u001b[39m'\u001b[39m)\n\u001b[0;32m----> <a href='vscode-notebook-cell://wsl%2Bubuntu-20.04/mnt/c/BUSCODE/perso/langchain_law/notebooks/test_legifrance_database.ipynb#X41sdnNjb2RlLXJlbW90ZQ%3D%3D?line=1'>2</a>\u001b[0m article \u001b[39m=\u001b[39m database\u001b[39m.\u001b[39;49msession\u001b[39m.\u001b[39;49mexecute(select_articles)\u001b[39m.\u001b[39;49mfirst()[\u001b[39m0\u001b[39;49m]\n\u001b[1;32m      <a href='vscode-notebook-cell://wsl%2Bubuntu-20.04/mnt/c/BUSCODE/perso/langchain_law/notebooks/test_legifrance_database.ipynb#X41sdnNjb2RlLXJlbW90ZQ%3D%3D?line=2'>3</a>\u001b[0m article\n",
      "\u001b[0;31mTypeError\u001b[0m: 'NoneType' object is not subscriptable"
     ]
    }
   ],
   "source": [
    "select_articles = select(Article).where(Article.legi_id=='LEGIARTI000006627140')\n",
    "article = database.session.execute(select_articles).first()[0]\n",
    "article"
   ]
  },
  {
   "cell_type": "code",
   "execution_count": 13,
   "metadata": {},
   "outputs": [
    {
     "data": {
      "application/vnd.jupyter.widget-view+json": {
       "model_id": "9eeecec1c57c4c43aca8d85dea4f1b7e",
       "version_major": 2,
       "version_minor": 0
      },
      "text/plain": [
       "Code pénal: 0it [00:00, ?it/s]"
      ]
     },
     "metadata": {},
     "output_type": "display_data"
    }
   ],
   "source": [
    "client = LegifranceClient()\n",
    "sections = client.get_lawtext(text)"
   ]
  },
  {
   "cell_type": "markdown",
   "metadata": {},
   "source": [
    "We check that no double section to create..."
   ]
  },
  {
   "cell_type": "code",
   "execution_count": 27,
   "metadata": {},
   "outputs": [],
   "source": [
    "articles_1=sections[1].get_articles()\n",
    "doublons = []\n",
    "\n",
    "for article in articles_1:\n",
    "    iso = [a for a in articles_1 if a.legi_id==article.legi_id]\n",
    "    if len(iso)!=1:\n",
    "        doublons.append(article)\n"
   ]
  },
  {
   "cell_type": "code",
   "execution_count": 30,
   "metadata": {},
   "outputs": [
    {
     "data": {
      "text/plain": [
       "[Article(legi_id='LEGIARTI000006419414', title=None),\n",
       " Article(legi_id='LEGIARTI000006419415', title=None)]"
      ]
     },
     "execution_count": 30,
     "metadata": {},
     "output_type": "execute_result"
    }
   ],
   "source": [
    "sections_doublons = [d.section for d in doublons]\n",
    "\n",
    "sections_doublons[0].articles"
   ]
  },
  {
   "cell_type": "markdown",
   "metadata": {},
   "source": [
    "We check that no section already in database..."
   ]
  },
  {
   "cell_type": "code",
   "execution_count": 57,
   "metadata": {},
   "outputs": [
    {
     "name": "stdout",
     "output_type": "stream",
     "text": [
      "[]\n"
     ]
    }
   ],
   "source": [
    "section_ids = [s.legi_id for s in sections]\n",
    "select_existing_sections = select(Section).where(Section.legi_id.in_(section_ids))\n",
    "existing = database.session.execute(select_existing_sections).all()\n",
    "print(existing)"
   ]
  },
  {
   "cell_type": "markdown",
   "metadata": {},
   "source": [
    "We check that no article already in database..."
   ]
  },
  {
   "cell_type": "code",
   "execution_count": 58,
   "metadata": {},
   "outputs": [],
   "source": [
    "articles = []\n",
    "for section in sections:\n",
    "    articles.extend(section.get_articles())"
   ]
  },
  {
   "cell_type": "code",
   "execution_count": 59,
   "metadata": {},
   "outputs": [
    {
     "name": "stdout",
     "output_type": "stream",
     "text": [
      "[]\n"
     ]
    }
   ],
   "source": [
    "legi_ids = [a.legi_id for a in articles]\n",
    "\n",
    "existing_article_query = select(Article).where(Article.legi_id.in_(legi_ids))\n",
    "existing = database.session.execute(existing_article_query).all()\n",
    "print(existing)"
   ]
  },
  {
   "cell_type": "code",
   "execution_count": 53,
   "metadata": {},
   "outputs": [
    {
     "data": {
      "text/plain": [
       "[]"
      ]
     },
     "execution_count": 53,
     "metadata": {},
     "output_type": "execute_result"
    }
   ],
   "source": []
  },
  {
   "cell_type": "code",
   "execution_count": null,
   "metadata": {},
   "outputs": [],
   "source": []
  }
 ],
 "metadata": {
  "kernelspec": {
   "display_name": "Python 3",
   "language": "python",
   "name": "python3"
  },
  "language_info": {
   "codemirror_mode": {
    "name": "ipython",
    "version": 3
   },
   "file_extension": ".py",
   "mimetype": "text/x-python",
   "name": "python",
   "nbconvert_exporter": "python",
   "pygments_lexer": "ipython3",
   "version": "3.8.18"
  }
 },
 "nbformat": 4,
 "nbformat_minor": 2
}
