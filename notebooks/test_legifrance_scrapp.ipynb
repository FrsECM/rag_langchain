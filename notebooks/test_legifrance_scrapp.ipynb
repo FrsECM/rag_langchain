{
 "cells": [
  {
   "cell_type": "markdown",
   "metadata": {},
   "source": [
    "# Scrapper : Convention Collectives"
   ]
  },
  {
   "cell_type": "markdown",
   "metadata": {},
   "source": [
    "## List conventions"
   ]
  },
  {
   "cell_type": "code",
   "execution_count": 1,
   "metadata": {},
   "outputs": [
    {
     "name": "stdout",
     "output_type": "stream",
     "text": [
      "{'title': 'Convention collective nationale du notariat du 16 décembre 2021 (Accord du 16 décembre 2021)', 'legi_id': 'KALITEXT000045808138'}\n",
      "{'title': \"Accord du 13 juillet 2017 relatif au document unique d'évaluation des risques professionnels dans le notariat (DUERP)\", 'legi_id': 'KALITEXT000035980620'}\n",
      "{'title': \"Arrêté portant extension de la convention collective nationale du notariat et d'accords la complétant.  JORF 9 mars 2002.\", 'legi_id': 'KALITEXT000005650063'}\n",
      "{'title': \"Arrêté portant extension d'accords conclus dans le cadre de la convention collective nationale du notariat.  JORF 5 avril 2000.\", 'legi_id': 'KALITEXT000005650059'}\n",
      "{'title': 'Avenant n° 42 du 17 juin 2021 relatif aux diplômes et à la classification du notaire salarié', 'legi_id': 'KALITEXT000044226254'}\n",
      "{'title': 'Avenant n° 39 du 23 janvier 2020 relatif au notaire salarié', 'legi_id': 'KALITEXT000042086229'}\n"
     ]
    },
    {
     "data": {
      "text/plain": [
       "[None, None, None, None, None, None]"
      ]
     },
     "execution_count": 1,
     "metadata": {},
     "output_type": "execute_result"
    }
   ],
   "source": [
    "%load_ext autoreload\n",
    "%autoreload 2\n",
    "import sys\n",
    "import os\n",
    "sys.path.insert(0,'../')\n",
    "\n",
    "from src.legifrance import LegifranceClient,LegifranceDatabase,LegifranceScrapper\n",
    "scrapper = LegifranceScrapper()\n",
    "results = scrapper.list_conventions('notariat|notaire')\n",
    "[print(r) for r in results]"
   ]
  },
  {
   "cell_type": "markdown",
   "metadata": {},
   "source": [
    "## List code"
   ]
  },
  {
   "cell_type": "code",
   "execution_count": 15,
   "metadata": {},
   "outputs": [
    {
     "name": "stdout",
     "output_type": "stream",
     "text": [
      "{'title': \"Code de l'aviation civile\", 'legi_id': 'LEGITEXT000006074234'}\n",
      "{'title': 'Code civil', 'legi_id': 'LEGITEXT000006070721'}\n",
      "{'title': 'Code des pensions civiles et militaires de retraite', 'legi_id': 'LEGITEXT000006070302'}\n",
      "{'title': 'Code de procédure civile', 'legi_id': 'LEGITEXT000006070716'}\n",
      "{'title': \"Code des procédures civiles d'exécution\", 'legi_id': 'LEGITEXT000025024948'}\n"
     ]
    },
    {
     "data": {
      "text/plain": [
       "[None, None, None, None, None]"
      ]
     },
     "execution_count": 15,
     "metadata": {},
     "output_type": "execute_result"
    }
   ],
   "source": [
    "%load_ext autoreload\n",
    "%autoreload 2\n",
    "import sys\n",
    "import os\n",
    "sys.path.insert(0,'../')\n",
    "\n",
    "from src.legifrance import LegifranceClient,LegifranceDatabase,LegifranceScrapper\n",
    "scrapper = LegifranceScrapper()\n",
    "results = scrapper.list_codes('code civil')\n",
    "[print(r) for r in results]"
   ]
  },
  {
   "cell_type": "markdown",
   "metadata": {},
   "source": [
    "## List code sections"
   ]
  },
  {
   "cell_type": "code",
   "execution_count": 16,
   "metadata": {},
   "outputs": [
    {
     "name": "stdout",
     "output_type": "stream",
     "text": [
      "The autoreload extension is already loaded. To reload it, use:\n",
      "  %reload_ext autoreload\n"
     ]
    },
    {
     "ename": "KeyError",
     "evalue": "'id'",
     "output_type": "error",
     "traceback": [
      "\u001b[0;31m---------------------------------------------------------------------------\u001b[0m",
      "\u001b[0;31mKeyError\u001b[0m                                  Traceback (most recent call last)",
      "\u001b[1;32m/mnt/c/BUSCODE/perso/langchain_law/notebooks/test_legifrance_scrapp.ipynb Cell 7\u001b[0m line \u001b[0;36m9\n\u001b[1;32m      <a href='vscode-notebook-cell://wsl%2Bubuntu-20.04/mnt/c/BUSCODE/perso/langchain_law/notebooks/test_legifrance_scrapp.ipynb#W6sdnNjb2RlLXJlbW90ZQ%3D%3D?line=6'>7</a>\u001b[0m \u001b[39mfrom\u001b[39;00m \u001b[39msrc\u001b[39;00m\u001b[39m.\u001b[39;00m\u001b[39mlegifrance\u001b[39;00m \u001b[39mimport\u001b[39;00m LegifranceClient,LegifranceDatabase,LegifranceScrapper\n\u001b[1;32m      <a href='vscode-notebook-cell://wsl%2Bubuntu-20.04/mnt/c/BUSCODE/perso/langchain_law/notebooks/test_legifrance_scrapp.ipynb#W6sdnNjb2RlLXJlbW90ZQ%3D%3D?line=7'>8</a>\u001b[0m scrapper \u001b[39m=\u001b[39m LegifranceScrapper()\n\u001b[0;32m----> <a href='vscode-notebook-cell://wsl%2Bubuntu-20.04/mnt/c/BUSCODE/perso/langchain_law/notebooks/test_legifrance_scrapp.ipynb#W6sdnNjb2RlLXJlbW90ZQ%3D%3D?line=8'>9</a>\u001b[0m results \u001b[39m=\u001b[39m scrapper\u001b[39m.\u001b[39;49mlist_code_sections(\u001b[39m'\u001b[39;49m\u001b[39mLEGITEXT000006070721\u001b[39;49m\u001b[39m'\u001b[39;49m)\n\u001b[1;32m     <a href='vscode-notebook-cell://wsl%2Bubuntu-20.04/mnt/c/BUSCODE/perso/langchain_law/notebooks/test_legifrance_scrapp.ipynb#W6sdnNjb2RlLXJlbW90ZQ%3D%3D?line=9'>10</a>\u001b[0m [\u001b[39mprint\u001b[39m(r) \u001b[39mfor\u001b[39;00m r \u001b[39min\u001b[39;00m results]\n",
      "File \u001b[0;32m/mnt/c/BUSCODE/perso/langchain_law/notebooks/../src/legifrance/legifrance_scrapper.py:86\u001b[0m, in \u001b[0;36mLegifranceScrapper.list_code_sections\u001b[0;34m(self, code_id)\u001b[0m\n\u001b[1;32m     83\u001b[0m     \u001b[39mreturn\u001b[39;00m \u001b[39mdict\u001b[39m(legi_id\u001b[39m=\u001b[39mlegi_id,title\u001b[39m=\u001b[39mtitle,sections\u001b[39m=\u001b[39msections,articles\u001b[39m=\u001b[39marticles)\n\u001b[1;32m     85\u001b[0m \u001b[39mfor\u001b[39;00m section \u001b[39min\u001b[39;00m root_sections:\n\u001b[0;32m---> 86\u001b[0m     section_dict\u001b[39m.\u001b[39mupdate(parse_section(section))\n\u001b[1;32m     87\u001b[0m \u001b[39mreturn\u001b[39;00m section_dict\n",
      "File \u001b[0;32m/mnt/c/BUSCODE/perso/langchain_law/notebooks/../src/legifrance/legifrance_scrapper.py:63\u001b[0m, in \u001b[0;36mLegifranceScrapper.list_code_sections.<locals>.parse_section\u001b[0;34m(section_soup)\u001b[0m\n\u001b[1;32m     61\u001b[0m \u001b[39mif\u001b[39;00m section_info \u001b[39mis\u001b[39;00m \u001b[39mNone\u001b[39;00m:\n\u001b[1;32m     62\u001b[0m     section_info \u001b[39m=\u001b[39m section_soup\u001b[39m.\u001b[39mfind(\u001b[39m'\u001b[39m\u001b[39mspan\u001b[39m\u001b[39m'\u001b[39m)\n\u001b[0;32m---> 63\u001b[0m legi_id \u001b[39m=\u001b[39m section_info\u001b[39m.\u001b[39;49mattrs[\u001b[39m'\u001b[39;49m\u001b[39mid\u001b[39;49m\u001b[39m'\u001b[39;49m]\n\u001b[1;32m     64\u001b[0m title \u001b[39m=\u001b[39m re\u001b[39m.\u001b[39msub(\u001b[39mr\u001b[39m\u001b[39m\"\u001b[39m\u001b[39m\\\u001b[39m\u001b[39m(Articles \u001b[39m\u001b[39m\\\u001b[39m\u001b[39md+.*?\u001b[39m\u001b[39m\\\u001b[39m\u001b[39m)\u001b[39m\u001b[39m\"\u001b[39m, \u001b[39m\"\u001b[39m\u001b[39m\"\u001b[39m, section_info\u001b[39m.\u001b[39mget_text())\n\u001b[1;32m     65\u001b[0m sections \u001b[39m=\u001b[39m []\n",
      "\u001b[0;31mKeyError\u001b[0m: 'id'"
     ]
    }
   ],
   "source": [
    "%load_ext autoreload\n",
    "%autoreload 2\n",
    "import sys\n",
    "import os\n",
    "sys.path.insert(0,'../')\n",
    "\n",
    "from src.legifrance import LegifranceClient,LegifranceDatabase,LegifranceScrapper\n",
    "scrapper = LegifranceScrapper()\n",
    "results = scrapper.list_code_sections('LEGITEXT000006070721')\n",
    "[print(r) for r in results]"
   ]
  },
  {
   "cell_type": "code",
   "execution_count": null,
   "metadata": {},
   "outputs": [],
   "source": []
  },
  {
   "cell_type": "code",
   "execution_count": 9,
   "metadata": {},
   "outputs": [
    {
     "data": {
      "text/plain": [
       "[LawText(id='62a5060c-efc4-4af8-8306-277290b20a71', title=Code général des impôts),\n",
       " LawText(id='b5e0d0c2-578d-4182-866c-db0c3ec5a0b0', title=Code général des impôts, annexe II),\n",
       " LawText(id='e39a1403-7dd5-403f-8bd4-76cdf9daa6a7', title=Code général des impôts, annexe I),\n",
       " LawText(id='b17c9892-b6e9-4f77-9ac1-8d5c5e51bfad', title=Code général des impôts, annexe IV),\n",
       " LawText(id='c93ef47b-0f47-4450-b480-8301b0894df9', title=Code général des impôts, annexe III)]"
      ]
     },
     "execution_count": 9,
     "metadata": {},
     "output_type": "execute_result"
    }
   ],
   "source": [
    "law_texts.all()"
   ]
  },
  {
   "cell_type": "code",
   "execution_count": 3,
   "metadata": {},
   "outputs": [],
   "source": [
    "client = LegifranceClient()\n"
   ]
  },
  {
   "cell_type": "code",
   "execution_count": null,
   "metadata": {},
   "outputs": [],
   "source": [
    "law_texts = client.list_lawtexts('code impot')\n",
    "database.add_lawtexts(law_texts)"
   ]
  },
  {
   "cell_type": "code",
   "execution_count": 10,
   "metadata": {},
   "outputs": [],
   "source": [
    "law_tests =database.get_lawtexts()"
   ]
  },
  {
   "cell_type": "code",
   "execution_count": 11,
   "metadata": {},
   "outputs": [
    {
     "data": {
      "text/plain": [
       "[LawText(id='LEGITEXT000006069577', title=Code général des impôts),\n",
       " LawText(id='LEGITEXT000006069569', title=Code général des impôts, annexe II),\n",
       " LawText(id='LEGITEXT000006069568', title=Code général des impôts, annexe I),\n",
       " LawText(id='LEGITEXT000006069576', title=Code général des impôts, annexe IV),\n",
       " LawText(id='LEGITEXT000006069574', title=Code général des impôts, annexe III)]"
      ]
     },
     "execution_count": 11,
     "metadata": {},
     "output_type": "execute_result"
    }
   ],
   "source": [
    "law_tests"
   ]
  },
  {
   "cell_type": "code",
   "execution_count": 12,
   "metadata": {},
   "outputs": [
    {
     "name": "stderr",
     "output_type": "stream",
     "text": [
      "Exception ignored in: <function LegifranceDatabase.__del__ at 0x7f0bda711e50>\n",
      "Traceback (most recent call last):\n",
      "  File \"/mnt/c/BUSCODE/perso/langchain_law/notebooks/../src/legifrance/legifrance_database.py\", line 15, in __del__\n",
      "    self.session.close()\n",
      "AttributeError: 'LegifranceDatabase' object has no attribute 'session'\n"
     ]
    },
    {
     "ename": "ValueError",
     "evalue": "time data '2005-12-31' does not match format '%Y-%m-%dT%H:%M:%S.%f%z'",
     "output_type": "error",
     "traceback": [
      "\u001b[0;31m---------------------------------------------------------------------------\u001b[0m",
      "\u001b[0;31mValueError\u001b[0m                                Traceback (most recent call last)",
      "\u001b[1;32m/mnt/c/BUSCODE/perso/langchain_law/notebooks/test_legifrance_api.ipynb Cell 11\u001b[0m line \u001b[0;36m1\n\u001b[0;32m----> <a href='vscode-notebook-cell://wsl%2Bubuntu-20.04/mnt/c/BUSCODE/perso/langchain_law/notebooks/test_legifrance_api.ipynb#X12sdnNjb2RlLXJlbW90ZQ%3D%3D?line=0'>1</a>\u001b[0m sections \u001b[39m=\u001b[39m client\u001b[39m.\u001b[39;49mget_lawtext(law_tests[\u001b[39m0\u001b[39;49m]\u001b[39m.\u001b[39;49mlegi_id)\n",
      "File \u001b[0;32m/mnt/c/BUSCODE/perso/langchain_law/notebooks/../src/legifrance/legifrance_client.py:93\u001b[0m, in \u001b[0;36mLegifranceClient.get_lawtext\u001b[0;34m(self, legi_id)\u001b[0m\n\u001b[1;32m     87\u001b[0m response \u001b[39m=\u001b[39m requests\u001b[39m.\u001b[39mpost(\n\u001b[1;32m     88\u001b[0m     url\u001b[39m=\u001b[39mapi_url,\n\u001b[1;32m     89\u001b[0m     data\u001b[39m=\u001b[39mpayload,\n\u001b[1;32m     90\u001b[0m     headers\u001b[39m=\u001b[39m\u001b[39mself\u001b[39m\u001b[39m.\u001b[39mheaders\n\u001b[1;32m     91\u001b[0m )\n\u001b[1;32m     92\u001b[0m sections \u001b[39m=\u001b[39m response\u001b[39m.\u001b[39mjson()[\u001b[39m'\u001b[39m\u001b[39msections\u001b[39m\u001b[39m'\u001b[39m]\n\u001b[0;32m---> 93\u001b[0m \u001b[39mreturn\u001b[39;00m [Section\u001b[39m.\u001b[39mfrom_json(t) \u001b[39mfor\u001b[39;00m t \u001b[39min\u001b[39;00m sections]\n",
      "File \u001b[0;32m/mnt/c/BUSCODE/perso/langchain_law/notebooks/../src/legifrance/legifrance_client.py:93\u001b[0m, in \u001b[0;36m<listcomp>\u001b[0;34m(.0)\u001b[0m\n\u001b[1;32m     87\u001b[0m response \u001b[39m=\u001b[39m requests\u001b[39m.\u001b[39mpost(\n\u001b[1;32m     88\u001b[0m     url\u001b[39m=\u001b[39mapi_url,\n\u001b[1;32m     89\u001b[0m     data\u001b[39m=\u001b[39mpayload,\n\u001b[1;32m     90\u001b[0m     headers\u001b[39m=\u001b[39m\u001b[39mself\u001b[39m\u001b[39m.\u001b[39mheaders\n\u001b[1;32m     91\u001b[0m )\n\u001b[1;32m     92\u001b[0m sections \u001b[39m=\u001b[39m response\u001b[39m.\u001b[39mjson()[\u001b[39m'\u001b[39m\u001b[39msections\u001b[39m\u001b[39m'\u001b[39m]\n\u001b[0;32m---> 93\u001b[0m \u001b[39mreturn\u001b[39;00m [Section\u001b[39m.\u001b[39;49mfrom_json(t) \u001b[39mfor\u001b[39;00m t \u001b[39min\u001b[39;00m sections]\n",
      "File \u001b[0;32m/mnt/c/BUSCODE/perso/langchain_law/notebooks/../src/legifrance/orm.py:74\u001b[0m, in \u001b[0;36mSection.from_json\u001b[0;34m(result)\u001b[0m\n\u001b[1;32m     72\u001b[0m \u001b[39mdef\u001b[39;00m \u001b[39mfrom_json\u001b[39m(result: \u001b[39mdict\u001b[39m):\n\u001b[1;32m     73\u001b[0m     date_format \u001b[39m=\u001b[39m \u001b[39m'\u001b[39m\u001b[39m%\u001b[39m\u001b[39mY-\u001b[39m\u001b[39m%\u001b[39m\u001b[39mm-\u001b[39m\u001b[39m%d\u001b[39;00m\u001b[39mT\u001b[39m\u001b[39m%\u001b[39m\u001b[39mH:\u001b[39m\u001b[39m%\u001b[39m\u001b[39mM:\u001b[39m\u001b[39m%\u001b[39m\u001b[39mS.\u001b[39m\u001b[39m%f\u001b[39;00m\u001b[39m%\u001b[39m\u001b[39mz\u001b[39m\u001b[39m'\u001b[39m\n\u001b[0;32m---> 74\u001b[0m     sections \u001b[39m=\u001b[39m [Section\u001b[39m.\u001b[39mfrom_json(s) \u001b[39mfor\u001b[39;00m s \u001b[39min\u001b[39;00m result[\u001b[39m'\u001b[39m\u001b[39msections\u001b[39m\u001b[39m'\u001b[39m]]\n\u001b[1;32m     75\u001b[0m     section \u001b[39m=\u001b[39m Section(\n\u001b[1;32m     76\u001b[0m         legi_id\u001b[39m=\u001b[39mresult[\u001b[39m'\u001b[39m\u001b[39mid\u001b[39m\u001b[39m'\u001b[39m],\n\u001b[1;32m     77\u001b[0m         active\u001b[39m=\u001b[39mresult[\u001b[39m'\u001b[39m\u001b[39metat\u001b[39m\u001b[39m'\u001b[39m] \u001b[39m==\u001b[39m \u001b[39m'\u001b[39m\u001b[39mVIGUEUR\u001b[39m\u001b[39m'\u001b[39m,\n\u001b[0;32m   (...)\u001b[0m\n\u001b[1;32m     83\u001b[0m         modif_date\u001b[39m=\u001b[39mdatetime\u001b[39m.\u001b[39mstrptime(result[\u001b[39m'\u001b[39m\u001b[39mdateModif\u001b[39m\u001b[39m'\u001b[39m],date_format) \u001b[39mif\u001b[39;00m result[\u001b[39m'\u001b[39m\u001b[39mdateModif\u001b[39m\u001b[39m'\u001b[39m] \u001b[39melse\u001b[39;00m datetime\u001b[39m.\u001b[39mnow()\n\u001b[1;32m     84\u001b[0m     )\n\u001b[1;32m     85\u001b[0m     section\u001b[39m.\u001b[39msections \u001b[39m=\u001b[39m sections\n",
      "File \u001b[0;32m/mnt/c/BUSCODE/perso/langchain_law/notebooks/../src/legifrance/orm.py:74\u001b[0m, in \u001b[0;36m<listcomp>\u001b[0;34m(.0)\u001b[0m\n\u001b[1;32m     72\u001b[0m \u001b[39mdef\u001b[39;00m \u001b[39mfrom_json\u001b[39m(result: \u001b[39mdict\u001b[39m):\n\u001b[1;32m     73\u001b[0m     date_format \u001b[39m=\u001b[39m \u001b[39m'\u001b[39m\u001b[39m%\u001b[39m\u001b[39mY-\u001b[39m\u001b[39m%\u001b[39m\u001b[39mm-\u001b[39m\u001b[39m%d\u001b[39;00m\u001b[39mT\u001b[39m\u001b[39m%\u001b[39m\u001b[39mH:\u001b[39m\u001b[39m%\u001b[39m\u001b[39mM:\u001b[39m\u001b[39m%\u001b[39m\u001b[39mS.\u001b[39m\u001b[39m%f\u001b[39;00m\u001b[39m%\u001b[39m\u001b[39mz\u001b[39m\u001b[39m'\u001b[39m\n\u001b[0;32m---> 74\u001b[0m     sections \u001b[39m=\u001b[39m [Section\u001b[39m.\u001b[39;49mfrom_json(s) \u001b[39mfor\u001b[39;00m s \u001b[39min\u001b[39;00m result[\u001b[39m'\u001b[39m\u001b[39msections\u001b[39m\u001b[39m'\u001b[39m]]\n\u001b[1;32m     75\u001b[0m     section \u001b[39m=\u001b[39m Section(\n\u001b[1;32m     76\u001b[0m         legi_id\u001b[39m=\u001b[39mresult[\u001b[39m'\u001b[39m\u001b[39mid\u001b[39m\u001b[39m'\u001b[39m],\n\u001b[1;32m     77\u001b[0m         active\u001b[39m=\u001b[39mresult[\u001b[39m'\u001b[39m\u001b[39metat\u001b[39m\u001b[39m'\u001b[39m] \u001b[39m==\u001b[39m \u001b[39m'\u001b[39m\u001b[39mVIGUEUR\u001b[39m\u001b[39m'\u001b[39m,\n\u001b[0;32m   (...)\u001b[0m\n\u001b[1;32m     83\u001b[0m         modif_date\u001b[39m=\u001b[39mdatetime\u001b[39m.\u001b[39mstrptime(result[\u001b[39m'\u001b[39m\u001b[39mdateModif\u001b[39m\u001b[39m'\u001b[39m],date_format) \u001b[39mif\u001b[39;00m result[\u001b[39m'\u001b[39m\u001b[39mdateModif\u001b[39m\u001b[39m'\u001b[39m] \u001b[39melse\u001b[39;00m datetime\u001b[39m.\u001b[39mnow()\n\u001b[1;32m     84\u001b[0m     )\n\u001b[1;32m     85\u001b[0m     section\u001b[39m.\u001b[39msections \u001b[39m=\u001b[39m sections\n",
      "File \u001b[0;32m/mnt/c/BUSCODE/perso/langchain_law/notebooks/../src/legifrance/orm.py:82\u001b[0m, in \u001b[0;36mSection.from_json\u001b[0;34m(result)\u001b[0m\n\u001b[1;32m     73\u001b[0m date_format \u001b[39m=\u001b[39m \u001b[39m'\u001b[39m\u001b[39m%\u001b[39m\u001b[39mY-\u001b[39m\u001b[39m%\u001b[39m\u001b[39mm-\u001b[39m\u001b[39m%d\u001b[39;00m\u001b[39mT\u001b[39m\u001b[39m%\u001b[39m\u001b[39mH:\u001b[39m\u001b[39m%\u001b[39m\u001b[39mM:\u001b[39m\u001b[39m%\u001b[39m\u001b[39mS.\u001b[39m\u001b[39m%f\u001b[39;00m\u001b[39m%\u001b[39m\u001b[39mz\u001b[39m\u001b[39m'\u001b[39m\n\u001b[1;32m     74\u001b[0m sections \u001b[39m=\u001b[39m [Section\u001b[39m.\u001b[39mfrom_json(s) \u001b[39mfor\u001b[39;00m s \u001b[39min\u001b[39;00m result[\u001b[39m'\u001b[39m\u001b[39msections\u001b[39m\u001b[39m'\u001b[39m]]\n\u001b[1;32m     75\u001b[0m section \u001b[39m=\u001b[39m Section(\n\u001b[1;32m     76\u001b[0m     legi_id\u001b[39m=\u001b[39mresult[\u001b[39m'\u001b[39m\u001b[39mid\u001b[39m\u001b[39m'\u001b[39m],\n\u001b[1;32m     77\u001b[0m     active\u001b[39m=\u001b[39mresult[\u001b[39m'\u001b[39m\u001b[39metat\u001b[39m\u001b[39m'\u001b[39m] \u001b[39m==\u001b[39m \u001b[39m'\u001b[39m\u001b[39mVIGUEUR\u001b[39m\u001b[39m'\u001b[39m,\n\u001b[1;32m     78\u001b[0m     title\u001b[39m=\u001b[39mresult[\u001b[39m'\u001b[39m\u001b[39mtitle\u001b[39m\u001b[39m'\u001b[39m],\n\u001b[1;32m     79\u001b[0m     intOrdre\u001b[39m=\u001b[39mresult[\u001b[39m'\u001b[39m\u001b[39mintOrdre\u001b[39m\u001b[39m'\u001b[39m],\n\u001b[1;32m     80\u001b[0m     start_date \u001b[39m=\u001b[39m result[\u001b[39m'\u001b[39m\u001b[39mdateDebut\u001b[39m\u001b[39m'\u001b[39m],\n\u001b[1;32m     81\u001b[0m     end_date \u001b[39m=\u001b[39m result[\u001b[39m'\u001b[39m\u001b[39mdateFin\u001b[39m\u001b[39m'\u001b[39m],\n\u001b[0;32m---> 82\u001b[0m     created_date\u001b[39m=\u001b[39mdatetime\u001b[39m.\u001b[39;49mstrptime(result[\u001b[39m'\u001b[39;49m\u001b[39mdateDebut\u001b[39;49m\u001b[39m'\u001b[39;49m],date_format),\n\u001b[1;32m     83\u001b[0m     modif_date\u001b[39m=\u001b[39mdatetime\u001b[39m.\u001b[39mstrptime(result[\u001b[39m'\u001b[39m\u001b[39mdateModif\u001b[39m\u001b[39m'\u001b[39m],date_format) \u001b[39mif\u001b[39;00m result[\u001b[39m'\u001b[39m\u001b[39mdateModif\u001b[39m\u001b[39m'\u001b[39m] \u001b[39melse\u001b[39;00m datetime\u001b[39m.\u001b[39mnow()\n\u001b[1;32m     84\u001b[0m )\n\u001b[1;32m     85\u001b[0m section\u001b[39m.\u001b[39msections \u001b[39m=\u001b[39m sections\n\u001b[1;32m     86\u001b[0m \u001b[39mreturn\u001b[39;00m section\n",
      "File \u001b[0;32m~/miniconda3/Bib/envs/langchain_env/lib/python3.8/_strptime.py:568\u001b[0m, in \u001b[0;36m_strptime_datetime\u001b[0;34m(cls, data_string, format)\u001b[0m\n\u001b[1;32m    565\u001b[0m \u001b[39mdef\u001b[39;00m \u001b[39m_strptime_datetime\u001b[39m(\u001b[39mcls\u001b[39m, data_string, \u001b[39mformat\u001b[39m\u001b[39m=\u001b[39m\u001b[39m\"\u001b[39m\u001b[39m%a\u001b[39;00m\u001b[39m \u001b[39m\u001b[39m%\u001b[39m\u001b[39mb \u001b[39m\u001b[39m%d\u001b[39;00m\u001b[39m \u001b[39m\u001b[39m%\u001b[39m\u001b[39mH:\u001b[39m\u001b[39m%\u001b[39m\u001b[39mM:\u001b[39m\u001b[39m%\u001b[39m\u001b[39mS \u001b[39m\u001b[39m%\u001b[39m\u001b[39mY\u001b[39m\u001b[39m\"\u001b[39m):\n\u001b[1;32m    566\u001b[0m \u001b[39m    \u001b[39m\u001b[39m\"\"\"Return a class cls instance based on the input string and the\u001b[39;00m\n\u001b[1;32m    567\u001b[0m \u001b[39m    format string.\"\"\"\u001b[39;00m\n\u001b[0;32m--> 568\u001b[0m     tt, fraction, gmtoff_fraction \u001b[39m=\u001b[39m _strptime(data_string, \u001b[39mformat\u001b[39;49m)\n\u001b[1;32m    569\u001b[0m     tzname, gmtoff \u001b[39m=\u001b[39m tt[\u001b[39m-\u001b[39m\u001b[39m2\u001b[39m:]\n\u001b[1;32m    570\u001b[0m     args \u001b[39m=\u001b[39m tt[:\u001b[39m6\u001b[39m] \u001b[39m+\u001b[39m (fraction,)\n",
      "File \u001b[0;32m~/miniconda3/Bib/envs/langchain_env/lib/python3.8/_strptime.py:349\u001b[0m, in \u001b[0;36m_strptime\u001b[0;34m(data_string, format)\u001b[0m\n\u001b[1;32m    347\u001b[0m found \u001b[39m=\u001b[39m format_regex\u001b[39m.\u001b[39mmatch(data_string)\n\u001b[1;32m    348\u001b[0m \u001b[39mif\u001b[39;00m \u001b[39mnot\u001b[39;00m found:\n\u001b[0;32m--> 349\u001b[0m     \u001b[39mraise\u001b[39;00m \u001b[39mValueError\u001b[39;00m(\u001b[39m\"\u001b[39m\u001b[39mtime data \u001b[39m\u001b[39m%r\u001b[39;00m\u001b[39m does not match format \u001b[39m\u001b[39m%r\u001b[39;00m\u001b[39m\"\u001b[39m \u001b[39m%\u001b[39m\n\u001b[1;32m    350\u001b[0m                      (data_string, \u001b[39mformat\u001b[39m))\n\u001b[1;32m    351\u001b[0m \u001b[39mif\u001b[39;00m \u001b[39mlen\u001b[39m(data_string) \u001b[39m!=\u001b[39m found\u001b[39m.\u001b[39mend():\n\u001b[1;32m    352\u001b[0m     \u001b[39mraise\u001b[39;00m \u001b[39mValueError\u001b[39;00m(\u001b[39m\"\u001b[39m\u001b[39munconverted data remains: \u001b[39m\u001b[39m%s\u001b[39;00m\u001b[39m\"\u001b[39m \u001b[39m%\u001b[39m\n\u001b[1;32m    353\u001b[0m                       data_string[found\u001b[39m.\u001b[39mend():])\n",
      "\u001b[0;31mValueError\u001b[0m: time data '2005-12-31' does not match format '%Y-%m-%dT%H:%M:%S.%f%z'"
     ]
    }
   ],
   "source": [
    "sections = client.get_lawtext(law_tests[0].legi_id)"
   ]
  },
  {
   "cell_type": "code",
   "execution_count": null,
   "metadata": {},
   "outputs": [],
   "source": []
  }
 ],
 "metadata": {
  "kernelspec": {
   "display_name": "Python 3",
   "language": "python",
   "name": "python3"
  },
  "language_info": {
   "codemirror_mode": {
    "name": "ipython",
    "version": 3
   },
   "file_extension": ".py",
   "mimetype": "text/x-python",
   "name": "python",
   "nbconvert_exporter": "python",
   "pygments_lexer": "ipython3",
   "version": "3.8.18"
  }
 },
 "nbformat": 4,
 "nbformat_minor": 2
}
