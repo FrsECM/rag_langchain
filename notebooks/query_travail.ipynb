{
 "cells": [
  {
   "cell_type": "markdown",
   "metadata": {},
   "source": [
    "# Query Notebook\n",
    "\n",
    "Dans ce notebook on va interroger la base vectorielle contenant la legislation française pour répondre à des questions juridiques..."
   ]
  },
  {
   "cell_type": "code",
   "execution_count": 2,
   "metadata": {},
   "outputs": [],
   "source": [
    "%load_ext autoreload\n",
    "%autoreload 2\n",
    "import sys\n",
    "import os\n",
    "sys.path.insert(0,'../')\n",
    "os.environ['TOKENIZERS_PARALLELISM']='false'\n",
    "from src.rag import CHROMA_RAG, add_backline\n",
    "\n",
    "pipeline = CHROMA_RAG('../data/chroma_travail')"
   ]
  },
  {
   "cell_type": "code",
   "execution_count": 12,
   "metadata": {},
   "outputs": [
    {
     "name": "stdout",
     "output_type": "stream",
     "text": [
      "- L'employeur doit mettre à la disposition des travailleurs les équipements de travail nécessaires pour\n",
      "préserver leur santé et leur sécurité (Code du travail - Article R4321-1).\n",
      "- L'employeur doit informer de manière appropriée tous les travailleurs des risques liés aux équipements\n",
      "de travail situés dans leur environnement immédiat de travail, même s'ils ne les utilisent pas\n",
      "personnellement (Code du travail - Article R4323-2).\n",
      "- Il est interdit d'employer des travailleurs de moins de dix-huit ans à certaines catégories\n",
      "de travaux les exposant à des risques pour leur santé ou leur sécurité (Code du\n",
      "travail - Article L4153-8).\n",
      "- Il est interdit d'employer les femmes enceintes, venant d'accoucher ou allaitant à certaines catégories\n",
      "de travaux présentant des risques pour leur santé ou leur sécurité (Code du travail -\n",
      "Article L4152-1).\n",
      "- L'employeur doit organiser une formation pratique et appropriée à la sécurité pour les travailleurs\n",
      "qu'il embauche, les travailleurs qui changent de poste de travail ou de technique, les salariés\n",
      "temporaires et les travailleurs qui reprennent leur activité après un arrêt de travail d'au moins\n",
      "vingt et un jours (Code du travail - Article L4141-2).\n",
      "- L'employeur doit mettre à la disposition du comité social et économique un local aménagé\n",
      "et le matériel nécessaire à l'exercice de ses fonctions (Code du travail - Article L2315-25).\n",
      "- L'employeur doit présenter un rapport annuel écrit au comité social et économique faisant le\n",
      "bilan de la santé, de la sécurité et des conditions de travail dans l'entreprise, ainsi\n",
      "que le programme annuel de prévention des risques professionnels et d'amélioration des conditions de travail\n",
      "(Code du travail - Article L2312-27).\n",
      "- L'employeur doit mettre à la disposition des travailleurs les équipements de protection individuelle appropriés\n",
      "et veiller à leur utilisation effective (Code du travail - Article R4321-4).\n",
      "- L'employeur doit vérifier l'efficacité des mesures prises en matière de santé et de sécurité\n",
      "(Code du travail - Article R4434-9).\n",
      "- Le règlement intérieur doit inclure les mesures d'application de la réglementation en matière de\n",
      "santé et de sécurité dans l'entreprise ou l'établissement (Code du travail - Article L1321-1).\n",
      "\n",
      "Sources:\n",
      "- Code du travail - Article R4321-1\n",
      "- Code du travail - Article R4323-2\n",
      "- Code du travail - Article L4153-8\n",
      "- Code du travail - Article L4152-1\n",
      "- Code du travail - Article L4141-2\n",
      "- Code du travail - Article L2315-25\n",
      "- Code du travail - Article L2312-27\n",
      "- Code du travail - Article R4321-4\n",
      "- Code du travail - Article R4434-9\n",
      "- Code du travail - Article L1321-1\n"
     ]
    }
   ],
   "source": [
    "question = \"Quelles sont les règles concernants les employés isolés sur leur lieu de travail ?\"\n",
    "res_rag = pipeline.generate(question,20)\n",
    "print(add_backline(res_rag))"
   ]
  },
  {
   "cell_type": "code",
   "execution_count": null,
   "metadata": {},
   "outputs": [],
   "source": []
  }
 ],
 "metadata": {
  "kernelspec": {
   "display_name": "langchain_env",
   "language": "python",
   "name": "python3"
  },
  "language_info": {
   "codemirror_mode": {
    "name": "ipython",
    "version": 3
   },
   "file_extension": ".py",
   "mimetype": "text/x-python",
   "name": "python",
   "nbconvert_exporter": "python",
   "pygments_lexer": "ipython3",
   "version": "3.8.18"
  }
 },
 "nbformat": 4,
 "nbformat_minor": 2
}
