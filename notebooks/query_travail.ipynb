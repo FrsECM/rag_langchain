{
 "cells": [
  {
   "cell_type": "markdown",
   "metadata": {},
   "source": [
    "# Query Notebook\n",
    "\n",
    "Dans ce notebook on va interroger la base vectorielle contenant la legislation française pour répondre à des questions juridiques..."
   ]
  },
  {
   "cell_type": "code",
   "execution_count": 1,
   "metadata": {},
   "outputs": [],
   "source": [
    "%load_ext autoreload\n",
    "%autoreload 2\n",
    "import sys\n",
    "import os\n",
    "sys.path.insert(0,'../')\n",
    "os.environ['TOKENIZERS_PARALLELISM']='false'\n",
    "from src.rag import CHROMA_RAG, add_backline\n",
    "\n",
    "pipeline = CHROMA_RAG('../data/chroma_travail')"
   ]
  },
  {
   "cell_type": "code",
   "execution_count": 9,
   "metadata": {},
   "outputs": [
    {
     "name": "stdout",
     "output_type": "stream",
     "text": [
      "Les règles du compte épargne-temps sont les suivantes :\n",
      "\n",
      "- Les salariés peuvent bénéficier d'un compte épargne-temps dans le cadre de la convention collective.\n",
      "- Le compte épargne-temps permet aux salariés d'accumuler des droits à congés non pris ou\n",
      "des rémunérations non perçues.\n",
      "- Les droits accumulés sur le compte épargne-temps peuvent être utilisés ultérieurement par le salarié.\n",
      "- Les modalités d'utilisation du compte épargne-temps sont définies par la convention collective ou par\n",
      "accord d'entreprise.\n",
      "- Le salarié peut utiliser les droits accumulés pour prendre des congés supplémentaires, pour financer\n",
      "une formation, pour compenser une diminution de salaire due à une réduction du temps de\n",
      "travail, ou pour percevoir une indemnité de fin de carrière.\n",
      "- L'utilisation du compte épargne-temps est soumise à l'accord de l'employeur.\n",
      "- Les droits accumulés sur le compte épargne-temps peuvent être monétisés à la demande du\n",
      "salarié.\n",
      "- Les modalités de fonctionnement et de gestion du compte épargne-temps sont précisées dans la\n",
      "convention collective ou dans un accord d'entreprise.\n",
      "\n",
      "Sources:\n",
      "Convention collective nationale du caoutchouc du 6 mars 1953. Étendue par arrêté du 29 mai\n",
      "1969 JORF 18 juin 1969 - Art. 22\n"
     ]
    }
   ],
   "source": [
    "question = \"Quelles sont les règles du compte épargne temps ?\"\n",
    "res_rag = pipeline.generate(question,15,full_articles=True)\n",
    "print(add_backline(res_rag))"
   ]
  },
  {
   "cell_type": "code",
   "execution_count": 3,
   "metadata": {},
   "outputs": [
    {
     "name": "stdout",
     "output_type": "stream",
     "text": [
      "Convention collective nationale du caoutchouc du 6 mars 1953. Étendue par arrêté du 29 mai 1969 JORF 18 juin 1969  - Art. 7\n",
      "Convention collective nationale du caoutchouc du 6 mars 1953. Étendue par arrêté du 29 mai 1969 JORF 18 juin 1969  - Art. 19\n",
      "Convention collective nationale du caoutchouc du 6 mars 1953. Étendue par arrêté du 29 mai 1969 JORF 18 juin 1969  - Art. 21\n",
      "Convention collective nationale du caoutchouc du 6 mars 1953. Étendue par arrêté du 29 mai 1969 JORF 18 juin 1969  - Art. 21 (1)\n",
      "Convention collective nationale du caoutchouc du 6 mars 1953. Étendue par arrêté du 29 mai 1969 JORF 18 juin 1969  - Art. 10\n",
      "Convention collective nationale du caoutchouc du 6 mars 1953. Étendue par arrêté du 29 mai 1969 JORF 18 juin 1969  - Art. 25\n",
      "Convention collective nationale du caoutchouc du 6 mars 1953. Étendue par arrêté du 29 mai 1969 JORF 18 juin 1969  - Art. 4\n",
      "Convention collective nationale du caoutchouc du 6 mars 1953. Étendue par arrêté du 29 mai 1969 JORF 18 juin 1969  - Art. 18\n",
      "Convention collective nationale du caoutchouc du 6 mars 1953. Étendue par arrêté du 29 mai 1969 JORF 18 juin 1969  - Art. 10\n",
      "Convention collective nationale du caoutchouc du 6 mars 1953. Étendue par arrêté du 29 mai 1969 JORF 18 juin 1969  - Art. 13\n",
      "Convention collective nationale du caoutchouc du 6 mars 1953. Étendue par arrêté du 29 mai 1969 JORF 18 juin 1969  - Art. 20 (1)\n",
      "Convention collective nationale du caoutchouc du 6 mars 1953. Étendue par arrêté du 29 mai 1969 JORF 18 juin 1969  - Art. 26\n",
      "Convention collective nationale du caoutchouc du 6 mars 1953. Étendue par arrêté du 29 mai 1969 JORF 18 juin 1969  - Art. 12\n",
      "Convention collective nationale du caoutchouc du 6 mars 1953. Étendue par arrêté du 29 mai 1969 JORF 18 juin 1969  - Art. 19\n",
      "Convention collective nationale du caoutchouc du 6 mars 1953. Étendue par arrêté du 29 mai 1969 JORF 18 juin 1969  - Art. 12\n",
      "Convention collective nationale du caoutchouc du 6 mars 1953. Étendue par arrêté du 29 mai 1969 JORF 18 juin 1969  - Art. 13\n",
      "Convention collective nationale du caoutchouc du 6 mars 1953. Étendue par arrêté du 29 mai 1969 JORF 18 juin 1969  - Art. 12\n",
      "Convention collective nationale du caoutchouc du 6 mars 1953. Étendue par arrêté du 29 mai 1969 JORF 18 juin 1969  - Art. 1er\n",
      "Convention collective nationale du caoutchouc du 6 mars 1953. Étendue par arrêté du 29 mai 1969 JORF 18 juin 1969  - Art. 1er\n",
      "Convention collective nationale du caoutchouc du 6 mars 1953. Étendue par arrêté du 29 mai 1969 JORF 18 juin 1969  - Art. 16\n"
     ]
    },
    {
     "data": {
      "text/plain": [
       "[None,\n",
       " None,\n",
       " None,\n",
       " None,\n",
       " None,\n",
       " None,\n",
       " None,\n",
       " None,\n",
       " None,\n",
       " None,\n",
       " None,\n",
       " None,\n",
       " None,\n",
       " None,\n",
       " None,\n",
       " None,\n",
       " None,\n",
       " None,\n",
       " None,\n",
       " None]"
      ]
     },
     "execution_count": 3,
     "metadata": {},
     "output_type": "execute_result"
    }
   ],
   "source": [
    "contexte = pipeline.retrieve(question,20)\n",
    "[print(c[0].metadata['source']) for c in contexte]"
   ]
  },
  {
   "cell_type": "code",
   "execution_count": null,
   "metadata": {},
   "outputs": [],
   "source": []
  }
 ],
 "metadata": {
  "kernelspec": {
   "display_name": "langchain_env",
   "language": "python",
   "name": "python3"
  },
  "language_info": {
   "codemirror_mode": {
    "name": "ipython",
    "version": 3
   },
   "file_extension": ".py",
   "mimetype": "text/x-python",
   "name": "python",
   "nbconvert_exporter": "python",
   "pygments_lexer": "ipython3",
   "version": "3.8.18"
  }
 },
 "nbformat": 4,
 "nbformat_minor": 2
}
