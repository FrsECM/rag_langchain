{
 "cells": [
  {
   "cell_type": "code",
   "execution_count": 1,
   "metadata": {},
   "outputs": [],
   "source": [
    "%load_ext autoreload\n",
    "%autoreload 2\n",
    "import sys\n",
    "import os\n",
    "sys.path.insert(0,'../')\n",
    "\n",
    "from src.legifrance import LegifranceClient,LegifranceDatabase\n",
    "database = LegifranceDatabase(path='../data/legifrance/database.db')\n",
    "# database.create_database(overwrite=True)\n"
   ]
  },
  {
   "cell_type": "code",
   "execution_count": 9,
   "metadata": {},
   "outputs": [
    {
     "name": "stdout",
     "output_type": "stream",
     "text": [
      "[LawText(id='LEGITEXT000006069577', title=Code général des impôts), LawText(id='LEGITEXT000006069569', title=Code général des impôts, annexe II), LawText(id='LEGITEXT000006069568', title=Code général des impôts, annexe I), LawText(id='LEGITEXT000006069576', title=Code général des impôts, annexe IV), LawText(id='LEGITEXT000006069574', title=Code général des impôts, annexe III)]\n"
     ]
    }
   ],
   "source": [
    "law_texts=database.get_lawtexts()\n",
    "print(law_texts)"
   ]
  },
  {
   "cell_type": "code",
   "execution_count": null,
   "metadata": {},
   "outputs": [],
   "source": []
  },
  {
   "cell_type": "code",
   "execution_count": null,
   "metadata": {},
   "outputs": [],
   "source": []
  },
  {
   "cell_type": "code",
   "execution_count": 9,
   "metadata": {},
   "outputs": [
    {
     "data": {
      "text/plain": [
       "[LawText(id='62a5060c-efc4-4af8-8306-277290b20a71', title=Code général des impôts),\n",
       " LawText(id='b5e0d0c2-578d-4182-866c-db0c3ec5a0b0', title=Code général des impôts, annexe II),\n",
       " LawText(id='e39a1403-7dd5-403f-8bd4-76cdf9daa6a7', title=Code général des impôts, annexe I),\n",
       " LawText(id='b17c9892-b6e9-4f77-9ac1-8d5c5e51bfad', title=Code général des impôts, annexe IV),\n",
       " LawText(id='c93ef47b-0f47-4450-b480-8301b0894df9', title=Code général des impôts, annexe III)]"
      ]
     },
     "execution_count": 9,
     "metadata": {},
     "output_type": "execute_result"
    }
   ],
   "source": [
    "law_texts.all()"
   ]
  },
  {
   "cell_type": "markdown",
   "metadata": {},
   "source": [
    "# Feed Database\n",
    "\n",
    "In this section we'll feed the database."
   ]
  },
  {
   "cell_type": "code",
   "execution_count": 3,
   "metadata": {},
   "outputs": [],
   "source": [
    "client = LegifranceClient()\n"
   ]
  },
  {
   "cell_type": "code",
   "execution_count": null,
   "metadata": {},
   "outputs": [],
   "source": [
    "law_texts = client.list_lawtexts('code impot')\n",
    "database.add_lawtexts(law_texts)"
   ]
  },
  {
   "cell_type": "code",
   "execution_count": 10,
   "metadata": {},
   "outputs": [],
   "source": [
    "law_tests =database.get_lawtexts()"
   ]
  },
  {
   "cell_type": "code",
   "execution_count": 11,
   "metadata": {},
   "outputs": [
    {
     "data": {
      "text/plain": [
       "[LawText(id='LEGITEXT000006069577', title=Code général des impôts),\n",
       " LawText(id='LEGITEXT000006069569', title=Code général des impôts, annexe II),\n",
       " LawText(id='LEGITEXT000006069568', title=Code général des impôts, annexe I),\n",
       " LawText(id='LEGITEXT000006069576', title=Code général des impôts, annexe IV),\n",
       " LawText(id='LEGITEXT000006069574', title=Code général des impôts, annexe III)]"
      ]
     },
     "execution_count": 11,
     "metadata": {},
     "output_type": "execute_result"
    }
   ],
   "source": [
    "law_tests"
   ]
  },
  {
   "cell_type": "code",
   "execution_count": 12,
   "metadata": {},
   "outputs": [
    {
     "name": "stderr",
     "output_type": "stream",
     "text": [
      "Exception ignored in: <function LegifranceDatabase.__del__ at 0x7f0bda711e50>\n",
      "Traceback (most recent call last):\n",
      "  File \"/mnt/c/BUSCODE/perso/langchain_law/notebooks/../src/legifrance/legifrance_database.py\", line 15, in __del__\n",
      "    self.session.close()\n",
      "AttributeError: 'LegifranceDatabase' object has no attribute 'session'\n"
     ]
    },
    {
     "ename": "ValueError",
     "evalue": "time data '2005-12-31' does not match format '%Y-%m-%dT%H:%M:%S.%f%z'",
     "output_type": "error",
     "traceback": [
      "\u001b[0;31m---------------------------------------------------------------------------\u001b[0m",
      "\u001b[0;31mValueError\u001b[0m                                Traceback (most recent call last)",
      "\u001b[1;32m/mnt/c/BUSCODE/perso/langchain_law/notebooks/test_legifrance_api.ipynb Cell 11\u001b[0m line \u001b[0;36m1\n\u001b[0;32m----> <a href='vscode-notebook-cell://wsl%2Bubuntu-20.04/mnt/c/BUSCODE/perso/langchain_law/notebooks/test_legifrance_api.ipynb#X12sdnNjb2RlLXJlbW90ZQ%3D%3D?line=0'>1</a>\u001b[0m sections \u001b[39m=\u001b[39m client\u001b[39m.\u001b[39;49mget_lawtext(law_tests[\u001b[39m0\u001b[39;49m]\u001b[39m.\u001b[39;49mlegi_id)\n",
      "File \u001b[0;32m/mnt/c/BUSCODE/perso/langchain_law/notebooks/../src/legifrance/legifrance_client.py:93\u001b[0m, in \u001b[0;36mLegifranceClient.get_lawtext\u001b[0;34m(self, legi_id)\u001b[0m\n\u001b[1;32m     87\u001b[0m response \u001b[39m=\u001b[39m requests\u001b[39m.\u001b[39mpost(\n\u001b[1;32m     88\u001b[0m     url\u001b[39m=\u001b[39mapi_url,\n\u001b[1;32m     89\u001b[0m     data\u001b[39m=\u001b[39mpayload,\n\u001b[1;32m     90\u001b[0m     headers\u001b[39m=\u001b[39m\u001b[39mself\u001b[39m\u001b[39m.\u001b[39mheaders\n\u001b[1;32m     91\u001b[0m )\n\u001b[1;32m     92\u001b[0m sections \u001b[39m=\u001b[39m response\u001b[39m.\u001b[39mjson()[\u001b[39m'\u001b[39m\u001b[39msections\u001b[39m\u001b[39m'\u001b[39m]\n\u001b[0;32m---> 93\u001b[0m \u001b[39mreturn\u001b[39;00m [Section\u001b[39m.\u001b[39mfrom_json(t) \u001b[39mfor\u001b[39;00m t \u001b[39min\u001b[39;00m sections]\n",
      "File \u001b[0;32m/mnt/c/BUSCODE/perso/langchain_law/notebooks/../src/legifrance/legifrance_client.py:93\u001b[0m, in \u001b[0;36m<listcomp>\u001b[0;34m(.0)\u001b[0m\n\u001b[1;32m     87\u001b[0m response \u001b[39m=\u001b[39m requests\u001b[39m.\u001b[39mpost(\n\u001b[1;32m     88\u001b[0m     url\u001b[39m=\u001b[39mapi_url,\n\u001b[1;32m     89\u001b[0m     data\u001b[39m=\u001b[39mpayload,\n\u001b[1;32m     90\u001b[0m     headers\u001b[39m=\u001b[39m\u001b[39mself\u001b[39m\u001b[39m.\u001b[39mheaders\n\u001b[1;32m     91\u001b[0m )\n\u001b[1;32m     92\u001b[0m sections \u001b[39m=\u001b[39m response\u001b[39m.\u001b[39mjson()[\u001b[39m'\u001b[39m\u001b[39msections\u001b[39m\u001b[39m'\u001b[39m]\n\u001b[0;32m---> 93\u001b[0m \u001b[39mreturn\u001b[39;00m [Section\u001b[39m.\u001b[39;49mfrom_json(t) \u001b[39mfor\u001b[39;00m t \u001b[39min\u001b[39;00m sections]\n",
      "File \u001b[0;32m/mnt/c/BUSCODE/perso/langchain_law/notebooks/../src/legifrance/orm.py:74\u001b[0m, in \u001b[0;36mSection.from_json\u001b[0;34m(result)\u001b[0m\n\u001b[1;32m     72\u001b[0m \u001b[39mdef\u001b[39;00m \u001b[39mfrom_json\u001b[39m(result: \u001b[39mdict\u001b[39m):\n\u001b[1;32m     73\u001b[0m     date_format \u001b[39m=\u001b[39m \u001b[39m'\u001b[39m\u001b[39m%\u001b[39m\u001b[39mY-\u001b[39m\u001b[39m%\u001b[39m\u001b[39mm-\u001b[39m\u001b[39m%d\u001b[39;00m\u001b[39mT\u001b[39m\u001b[39m%\u001b[39m\u001b[39mH:\u001b[39m\u001b[39m%\u001b[39m\u001b[39mM:\u001b[39m\u001b[39m%\u001b[39m\u001b[39mS.\u001b[39m\u001b[39m%f\u001b[39;00m\u001b[39m%\u001b[39m\u001b[39mz\u001b[39m\u001b[39m'\u001b[39m\n\u001b[0;32m---> 74\u001b[0m     sections \u001b[39m=\u001b[39m [Section\u001b[39m.\u001b[39mfrom_json(s) \u001b[39mfor\u001b[39;00m s \u001b[39min\u001b[39;00m result[\u001b[39m'\u001b[39m\u001b[39msections\u001b[39m\u001b[39m'\u001b[39m]]\n\u001b[1;32m     75\u001b[0m     section \u001b[39m=\u001b[39m Section(\n\u001b[1;32m     76\u001b[0m         legi_id\u001b[39m=\u001b[39mresult[\u001b[39m'\u001b[39m\u001b[39mid\u001b[39m\u001b[39m'\u001b[39m],\n\u001b[1;32m     77\u001b[0m         active\u001b[39m=\u001b[39mresult[\u001b[39m'\u001b[39m\u001b[39metat\u001b[39m\u001b[39m'\u001b[39m] \u001b[39m==\u001b[39m \u001b[39m'\u001b[39m\u001b[39mVIGUEUR\u001b[39m\u001b[39m'\u001b[39m,\n\u001b[0;32m   (...)\u001b[0m\n\u001b[1;32m     83\u001b[0m         modif_date\u001b[39m=\u001b[39mdatetime\u001b[39m.\u001b[39mstrptime(result[\u001b[39m'\u001b[39m\u001b[39mdateModif\u001b[39m\u001b[39m'\u001b[39m],date_format) \u001b[39mif\u001b[39;00m result[\u001b[39m'\u001b[39m\u001b[39mdateModif\u001b[39m\u001b[39m'\u001b[39m] \u001b[39melse\u001b[39;00m datetime\u001b[39m.\u001b[39mnow()\n\u001b[1;32m     84\u001b[0m     )\n\u001b[1;32m     85\u001b[0m     section\u001b[39m.\u001b[39msections \u001b[39m=\u001b[39m sections\n",
      "File \u001b[0;32m/mnt/c/BUSCODE/perso/langchain_law/notebooks/../src/legifrance/orm.py:74\u001b[0m, in \u001b[0;36m<listcomp>\u001b[0;34m(.0)\u001b[0m\n\u001b[1;32m     72\u001b[0m \u001b[39mdef\u001b[39;00m \u001b[39mfrom_json\u001b[39m(result: \u001b[39mdict\u001b[39m):\n\u001b[1;32m     73\u001b[0m     date_format \u001b[39m=\u001b[39m \u001b[39m'\u001b[39m\u001b[39m%\u001b[39m\u001b[39mY-\u001b[39m\u001b[39m%\u001b[39m\u001b[39mm-\u001b[39m\u001b[39m%d\u001b[39;00m\u001b[39mT\u001b[39m\u001b[39m%\u001b[39m\u001b[39mH:\u001b[39m\u001b[39m%\u001b[39m\u001b[39mM:\u001b[39m\u001b[39m%\u001b[39m\u001b[39mS.\u001b[39m\u001b[39m%f\u001b[39;00m\u001b[39m%\u001b[39m\u001b[39mz\u001b[39m\u001b[39m'\u001b[39m\n\u001b[0;32m---> 74\u001b[0m     sections \u001b[39m=\u001b[39m [Section\u001b[39m.\u001b[39;49mfrom_json(s) \u001b[39mfor\u001b[39;00m s \u001b[39min\u001b[39;00m result[\u001b[39m'\u001b[39m\u001b[39msections\u001b[39m\u001b[39m'\u001b[39m]]\n\u001b[1;32m     75\u001b[0m     section \u001b[39m=\u001b[39m Section(\n\u001b[1;32m     76\u001b[0m         legi_id\u001b[39m=\u001b[39mresult[\u001b[39m'\u001b[39m\u001b[39mid\u001b[39m\u001b[39m'\u001b[39m],\n\u001b[1;32m     77\u001b[0m         active\u001b[39m=\u001b[39mresult[\u001b[39m'\u001b[39m\u001b[39metat\u001b[39m\u001b[39m'\u001b[39m] \u001b[39m==\u001b[39m \u001b[39m'\u001b[39m\u001b[39mVIGUEUR\u001b[39m\u001b[39m'\u001b[39m,\n\u001b[0;32m   (...)\u001b[0m\n\u001b[1;32m     83\u001b[0m         modif_date\u001b[39m=\u001b[39mdatetime\u001b[39m.\u001b[39mstrptime(result[\u001b[39m'\u001b[39m\u001b[39mdateModif\u001b[39m\u001b[39m'\u001b[39m],date_format) \u001b[39mif\u001b[39;00m result[\u001b[39m'\u001b[39m\u001b[39mdateModif\u001b[39m\u001b[39m'\u001b[39m] \u001b[39melse\u001b[39;00m datetime\u001b[39m.\u001b[39mnow()\n\u001b[1;32m     84\u001b[0m     )\n\u001b[1;32m     85\u001b[0m     section\u001b[39m.\u001b[39msections \u001b[39m=\u001b[39m sections\n",
      "File \u001b[0;32m/mnt/c/BUSCODE/perso/langchain_law/notebooks/../src/legifrance/orm.py:82\u001b[0m, in \u001b[0;36mSection.from_json\u001b[0;34m(result)\u001b[0m\n\u001b[1;32m     73\u001b[0m date_format \u001b[39m=\u001b[39m \u001b[39m'\u001b[39m\u001b[39m%\u001b[39m\u001b[39mY-\u001b[39m\u001b[39m%\u001b[39m\u001b[39mm-\u001b[39m\u001b[39m%d\u001b[39;00m\u001b[39mT\u001b[39m\u001b[39m%\u001b[39m\u001b[39mH:\u001b[39m\u001b[39m%\u001b[39m\u001b[39mM:\u001b[39m\u001b[39m%\u001b[39m\u001b[39mS.\u001b[39m\u001b[39m%f\u001b[39;00m\u001b[39m%\u001b[39m\u001b[39mz\u001b[39m\u001b[39m'\u001b[39m\n\u001b[1;32m     74\u001b[0m sections \u001b[39m=\u001b[39m [Section\u001b[39m.\u001b[39mfrom_json(s) \u001b[39mfor\u001b[39;00m s \u001b[39min\u001b[39;00m result[\u001b[39m'\u001b[39m\u001b[39msections\u001b[39m\u001b[39m'\u001b[39m]]\n\u001b[1;32m     75\u001b[0m section \u001b[39m=\u001b[39m Section(\n\u001b[1;32m     76\u001b[0m     legi_id\u001b[39m=\u001b[39mresult[\u001b[39m'\u001b[39m\u001b[39mid\u001b[39m\u001b[39m'\u001b[39m],\n\u001b[1;32m     77\u001b[0m     active\u001b[39m=\u001b[39mresult[\u001b[39m'\u001b[39m\u001b[39metat\u001b[39m\u001b[39m'\u001b[39m] \u001b[39m==\u001b[39m \u001b[39m'\u001b[39m\u001b[39mVIGUEUR\u001b[39m\u001b[39m'\u001b[39m,\n\u001b[1;32m     78\u001b[0m     title\u001b[39m=\u001b[39mresult[\u001b[39m'\u001b[39m\u001b[39mtitle\u001b[39m\u001b[39m'\u001b[39m],\n\u001b[1;32m     79\u001b[0m     intOrdre\u001b[39m=\u001b[39mresult[\u001b[39m'\u001b[39m\u001b[39mintOrdre\u001b[39m\u001b[39m'\u001b[39m],\n\u001b[1;32m     80\u001b[0m     start_date \u001b[39m=\u001b[39m result[\u001b[39m'\u001b[39m\u001b[39mdateDebut\u001b[39m\u001b[39m'\u001b[39m],\n\u001b[1;32m     81\u001b[0m     end_date \u001b[39m=\u001b[39m result[\u001b[39m'\u001b[39m\u001b[39mdateFin\u001b[39m\u001b[39m'\u001b[39m],\n\u001b[0;32m---> 82\u001b[0m     created_date\u001b[39m=\u001b[39mdatetime\u001b[39m.\u001b[39;49mstrptime(result[\u001b[39m'\u001b[39;49m\u001b[39mdateDebut\u001b[39;49m\u001b[39m'\u001b[39;49m],date_format),\n\u001b[1;32m     83\u001b[0m     modif_date\u001b[39m=\u001b[39mdatetime\u001b[39m.\u001b[39mstrptime(result[\u001b[39m'\u001b[39m\u001b[39mdateModif\u001b[39m\u001b[39m'\u001b[39m],date_format) \u001b[39mif\u001b[39;00m result[\u001b[39m'\u001b[39m\u001b[39mdateModif\u001b[39m\u001b[39m'\u001b[39m] \u001b[39melse\u001b[39;00m datetime\u001b[39m.\u001b[39mnow()\n\u001b[1;32m     84\u001b[0m )\n\u001b[1;32m     85\u001b[0m section\u001b[39m.\u001b[39msections \u001b[39m=\u001b[39m sections\n\u001b[1;32m     86\u001b[0m \u001b[39mreturn\u001b[39;00m section\n",
      "File \u001b[0;32m~/miniconda3/Bib/envs/langchain_env/lib/python3.8/_strptime.py:568\u001b[0m, in \u001b[0;36m_strptime_datetime\u001b[0;34m(cls, data_string, format)\u001b[0m\n\u001b[1;32m    565\u001b[0m \u001b[39mdef\u001b[39;00m \u001b[39m_strptime_datetime\u001b[39m(\u001b[39mcls\u001b[39m, data_string, \u001b[39mformat\u001b[39m\u001b[39m=\u001b[39m\u001b[39m\"\u001b[39m\u001b[39m%a\u001b[39;00m\u001b[39m \u001b[39m\u001b[39m%\u001b[39m\u001b[39mb \u001b[39m\u001b[39m%d\u001b[39;00m\u001b[39m \u001b[39m\u001b[39m%\u001b[39m\u001b[39mH:\u001b[39m\u001b[39m%\u001b[39m\u001b[39mM:\u001b[39m\u001b[39m%\u001b[39m\u001b[39mS \u001b[39m\u001b[39m%\u001b[39m\u001b[39mY\u001b[39m\u001b[39m\"\u001b[39m):\n\u001b[1;32m    566\u001b[0m \u001b[39m    \u001b[39m\u001b[39m\"\"\"Return a class cls instance based on the input string and the\u001b[39;00m\n\u001b[1;32m    567\u001b[0m \u001b[39m    format string.\"\"\"\u001b[39;00m\n\u001b[0;32m--> 568\u001b[0m     tt, fraction, gmtoff_fraction \u001b[39m=\u001b[39m _strptime(data_string, \u001b[39mformat\u001b[39;49m)\n\u001b[1;32m    569\u001b[0m     tzname, gmtoff \u001b[39m=\u001b[39m tt[\u001b[39m-\u001b[39m\u001b[39m2\u001b[39m:]\n\u001b[1;32m    570\u001b[0m     args \u001b[39m=\u001b[39m tt[:\u001b[39m6\u001b[39m] \u001b[39m+\u001b[39m (fraction,)\n",
      "File \u001b[0;32m~/miniconda3/Bib/envs/langchain_env/lib/python3.8/_strptime.py:349\u001b[0m, in \u001b[0;36m_strptime\u001b[0;34m(data_string, format)\u001b[0m\n\u001b[1;32m    347\u001b[0m found \u001b[39m=\u001b[39m format_regex\u001b[39m.\u001b[39mmatch(data_string)\n\u001b[1;32m    348\u001b[0m \u001b[39mif\u001b[39;00m \u001b[39mnot\u001b[39;00m found:\n\u001b[0;32m--> 349\u001b[0m     \u001b[39mraise\u001b[39;00m \u001b[39mValueError\u001b[39;00m(\u001b[39m\"\u001b[39m\u001b[39mtime data \u001b[39m\u001b[39m%r\u001b[39;00m\u001b[39m does not match format \u001b[39m\u001b[39m%r\u001b[39;00m\u001b[39m\"\u001b[39m \u001b[39m%\u001b[39m\n\u001b[1;32m    350\u001b[0m                      (data_string, \u001b[39mformat\u001b[39m))\n\u001b[1;32m    351\u001b[0m \u001b[39mif\u001b[39;00m \u001b[39mlen\u001b[39m(data_string) \u001b[39m!=\u001b[39m found\u001b[39m.\u001b[39mend():\n\u001b[1;32m    352\u001b[0m     \u001b[39mraise\u001b[39;00m \u001b[39mValueError\u001b[39;00m(\u001b[39m\"\u001b[39m\u001b[39munconverted data remains: \u001b[39m\u001b[39m%s\u001b[39;00m\u001b[39m\"\u001b[39m \u001b[39m%\u001b[39m\n\u001b[1;32m    353\u001b[0m                       data_string[found\u001b[39m.\u001b[39mend():])\n",
      "\u001b[0;31mValueError\u001b[0m: time data '2005-12-31' does not match format '%Y-%m-%dT%H:%M:%S.%f%z'"
     ]
    }
   ],
   "source": [
    "sections = client.get_lawtext(law_tests[0].legi_id)"
   ]
  },
  {
   "cell_type": "code",
   "execution_count": null,
   "metadata": {},
   "outputs": [],
   "source": []
  }
 ],
 "metadata": {
  "kernelspec": {
   "display_name": "Python 3",
   "language": "python",
   "name": "python3"
  },
  "language_info": {
   "codemirror_mode": {
    "name": "ipython",
    "version": 3
   },
   "file_extension": ".py",
   "mimetype": "text/x-python",
   "name": "python",
   "nbconvert_exporter": "python",
   "pygments_lexer": "ipython3",
   "version": "3.8.18"
  }
 },
 "nbformat": 4,
 "nbformat_minor": 2
}
