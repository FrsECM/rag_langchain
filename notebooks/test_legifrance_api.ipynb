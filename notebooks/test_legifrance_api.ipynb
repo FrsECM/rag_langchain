{
 "cells": [
  {
   "cell_type": "code",
   "execution_count": 1,
   "metadata": {},
   "outputs": [
    {
     "name": "stdout",
     "output_type": "stream",
     "text": [
      "2023-11-13 22:52:20,402 INFO sqlalchemy.engine.Engine BEGIN (implicit)\n",
      "2023-11-13 22:52:20,404 INFO sqlalchemy.engine.Engine PRAGMA main.table_info(\"LEGI_TEXT\")\n",
      "2023-11-13 22:52:20,406 INFO sqlalchemy.engine.Engine [raw sql] ()\n",
      "2023-11-13 22:52:20,412 INFO sqlalchemy.engine.Engine PRAGMA temp.table_info(\"LEGI_TEXT\")\n",
      "2023-11-13 22:52:20,414 INFO sqlalchemy.engine.Engine [raw sql] ()\n",
      "2023-11-13 22:52:20,416 INFO sqlalchemy.engine.Engine PRAGMA main.table_info(\"LEGI_SECTION\")\n",
      "2023-11-13 22:52:20,417 INFO sqlalchemy.engine.Engine [raw sql] ()\n",
      "2023-11-13 22:52:20,423 INFO sqlalchemy.engine.Engine PRAGMA temp.table_info(\"LEGI_SECTION\")\n",
      "2023-11-13 22:52:20,425 INFO sqlalchemy.engine.Engine [raw sql] ()\n",
      "2023-11-13 22:52:20,427 INFO sqlalchemy.engine.Engine PRAGMA main.table_info(\"LEGI_ART\")\n",
      "2023-11-13 22:52:20,428 INFO sqlalchemy.engine.Engine [raw sql] ()\n",
      "2023-11-13 22:52:20,435 INFO sqlalchemy.engine.Engine PRAGMA temp.table_info(\"LEGI_ART\")\n",
      "2023-11-13 22:52:20,437 INFO sqlalchemy.engine.Engine [raw sql] ()\n",
      "2023-11-13 22:52:20,441 INFO sqlalchemy.engine.Engine \n",
      "CREATE TABLE \"LEGI_TEXT\" (\n",
      "\tid VARCHAR NOT NULL, \n",
      "\tlegi_id VARCHAR NOT NULL, \n",
      "\tactive BOOLEAN, \n",
      "\ttitle VARCHAR, \n",
      "\tcreated_date DATETIME, \n",
      "\tmodif_date DATETIME, \n",
      "\tPRIMARY KEY (id)\n",
      ")\n",
      "\n",
      "\n",
      "2023-11-13 22:52:20,444 INFO sqlalchemy.engine.Engine [no key 0.00260s] ()\n",
      "2023-11-13 22:52:20,482 INFO sqlalchemy.engine.Engine \n",
      "CREATE TABLE \"LEGI_SECTION\" (\n",
      "\tid VARCHAR NOT NULL, \n",
      "\tlegi_id VARCHAR NOT NULL, \n",
      "\tactive BOOLEAN, \n",
      "\ttitle VARCHAR NOT NULL, \n",
      "\t\"intOrdre\" INTEGER, \n",
      "\tcreated_date DATETIME, \n",
      "\tmodif_date DATETIME, \n",
      "\tstart_date DATETIME, \n",
      "\tend_date DATETIME, \n",
      "\tlawtext_id VARCHAR NOT NULL, \n",
      "\tsection_id VARCHAR, \n",
      "\tPRIMARY KEY (id), \n",
      "\tFOREIGN KEY(lawtext_id) REFERENCES \"LEGI_TEXT\" (id), \n",
      "\tFOREIGN KEY(section_id) REFERENCES \"LEGI_SECTION\" (id)\n",
      ")\n",
      "\n",
      "\n",
      "2023-11-13 22:52:20,483 INFO sqlalchemy.engine.Engine [no key 0.00176s] ()\n",
      "2023-11-13 22:52:20,506 INFO sqlalchemy.engine.Engine \n",
      "CREATE TABLE \"LEGI_ART\" (\n",
      "\tid VARCHAR NOT NULL, \n",
      "\tlegi_id VARCHAR NOT NULL, \n",
      "\tactive BOOLEAN, \n",
      "\ttitle VARCHAR NOT NULL, \n",
      "\tnum VARCHAR(30) NOT NULL, \n",
      "\tsection_id VARCHAR NOT NULL, \n",
      "\tcontent VARCHAR, \n",
      "\tnota VARCHAR, \n",
      "\tcreated_date DATETIME, \n",
      "\tmodif_date DATETIME, \n",
      "\tstart_date DATETIME, \n",
      "\tend_date DATETIME, \n",
      "\tPRIMARY KEY (id), \n",
      "\tFOREIGN KEY(section_id) REFERENCES \"LEGI_SECTION\" (id)\n",
      ")\n",
      "\n",
      "\n",
      "2023-11-13 22:52:20,508 INFO sqlalchemy.engine.Engine [no key 0.00168s] ()\n",
      "2023-11-13 22:52:20,528 INFO sqlalchemy.engine.Engine COMMIT\n"
     ]
    }
   ],
   "source": [
    "%load_ext autoreload\n",
    "%autoreload 2\n",
    "import sys\n",
    "import os\n",
    "sys.path.insert(0,'../')\n",
    "\n",
    "from src.legifrance import LegifranceClient,LegifranceDatabase\n",
    "database = LegifranceDatabase(path='../data/legifrance/database.db')\n",
    "database.create_database(overwrite=True)\n"
   ]
  },
  {
   "cell_type": "code",
   "execution_count": 6,
   "metadata": {},
   "outputs": [],
   "source": [
    "client = LegifranceClient()\n",
    "\n",
    "law_texts = client.list_lawtexts('code civil')"
   ]
  },
  {
   "cell_type": "code",
   "execution_count": 11,
   "metadata": {},
   "outputs": [
    {
     "name": "stdout",
     "output_type": "stream",
     "text": [
      "2023-11-13 22:58:31,181 INFO sqlalchemy.engine.Engine BEGIN (implicit)\n",
      "2023-11-13 22:58:31,203 INFO sqlalchemy.engine.Engine INSERT INTO \"LEGI_TEXT\" (id, legi_id, active, title, created_date, modif_date) VALUES (?, ?, ?, ?, ?, ?), (?, ?, ?, ?, ?, ?), (?, ?, ?, ?, ?, ?), (?, ?, ?, ?, ?, ?), (?, ?, ?, ?, ?, ?)\n",
      "2023-11-13 22:58:31,206 INFO sqlalchemy.engine.Engine [generated in 0.00254s (insertmanyvalues) 1/1 (unordered)] ('8acf9168-7282-4071-a5c6-f1307951635f', 'LEGITEXT000006070721', 1, 'Code civil', '1804-03-21 00:00:00.000000', '2023-05-21 00:00:00.000000', 'd30e0983-c591-48ec-8758-b00d7b340c74', 'LEGITEXT000006074234', 1, \"Code de l'aviation civile\", '1967-04-09 00:00:00.000000', '2023-11-01 00:00:00.000000', '46624f65-6f64-4a1a-8979-1c8fe6d99705', 'LEGITEXT000006070716', 1, 'Code de procédure civile', '1976-01-01 00:00:00.000000', '2023-10-05 00:00:00.000000', '95b3b873-ce50-4997-8154-1303e2610df2', 'LEGITEXT000025024948', 1, \"Code des procédures civiles d'exécution\", '2012-06-01 00:00:00.000000', '2023-07-29 00:00:00.000000', '09577709-389a-47e6-bd0d-cff89b354b7c', 'LEGITEXT000006070302', 1, 'Code des pensions civiles et militaires de retraite', '1952-07-01 00:00:00.000000', '2023-09-01 00:00:00.000000')\n",
      "2023-11-13 22:58:31,235 INFO sqlalchemy.engine.Engine COMMIT\n"
     ]
    }
   ],
   "source": [
    "database.add_texts(law_texts)"
   ]
  },
  {
   "cell_type": "code",
   "execution_count": 2,
   "metadata": {},
   "outputs": [
    {
     "data": {
      "text/plain": [
       "datetime.datetime(1804, 3, 21, 0, 0)"
      ]
     },
     "execution_count": 2,
     "metadata": {},
     "output_type": "execute_result"
    }
   ],
   "source": [
    "from datetime import datetime\n",
    "datetime.fromisoformat('1804-03-21')"
   ]
  },
  {
   "cell_type": "code",
   "execution_count": 5,
   "metadata": {},
   "outputs": [
    {
     "data": {
      "text/plain": [
       "(3, 8)"
      ]
     },
     "execution_count": 5,
     "metadata": {},
     "output_type": "execute_result"
    }
   ],
   "source": [
    "sys.version_info[0:2]"
   ]
  },
  {
   "cell_type": "code",
   "execution_count": null,
   "metadata": {},
   "outputs": [],
   "source": []
  }
 ],
 "metadata": {
  "kernelspec": {
   "display_name": "Python 3",
   "language": "python",
   "name": "python3"
  },
  "language_info": {
   "codemirror_mode": {
    "name": "ipython",
    "version": 3
   },
   "file_extension": ".py",
   "mimetype": "text/x-python",
   "name": "python",
   "nbconvert_exporter": "python",
   "pygments_lexer": "ipython3",
   "version": "3.8.18"
  }
 },
 "nbformat": 4,
 "nbformat_minor": 2
}
