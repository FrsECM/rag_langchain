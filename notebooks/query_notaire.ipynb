{
 "cells": [
  {
   "cell_type": "markdown",
   "metadata": {},
   "source": [
    "# Query Notebook\n",
    "\n",
    "Dans ce notebook on va interroger la base vectorielle contenant la legislation française pour répondre à des questions juridiques..."
   ]
  },
  {
   "cell_type": "code",
   "execution_count": 1,
   "metadata": {},
   "outputs": [],
   "source": [
    "%load_ext autoreload\n",
    "%autoreload 2\n",
    "import sys\n",
    "import os\n",
    "sys.path.insert(0,'../')\n",
    "os.environ['TOKENIZERS_PARALLELISM']='false'\n",
    "from src.rag import CHROMA_RAG, add_backline\n",
    "\n",
    "pipeline = CHROMA_RAG('../data/chroma_notaire')"
   ]
  },
  {
   "cell_type": "code",
   "execution_count": 3,
   "metadata": {},
   "outputs": [
    {
     "name": "stdout",
     "output_type": "stream",
     "text": [
      "Les conditions du droit de préemption urbain sont les suivantes :\n",
      "- Le maire ou le président de l'établissement public de coopération intercommunale compétent doit adresser\n",
      "sans délai une copie des actes ayant pour effet d'instituer, supprimer ou modifier le droit\n",
      "de préemption urbain au directeur départemental ou régional des finances publiques, à la chambre départementale\n",
      "des notaires, aux barreaux constitués près les tribunaux judiciaires compétents et au greffe des mêmes\n",
      "tribunaux. Cette copie doit être accompagnée, le cas échéant, d'un plan précisant le champ d'application\n",
      "du droit de préemption urbain.\n",
      "- Le droit de préemption urbain peut être délégué à une personne titulaire d'un contrat\n",
      "conclu dans les mêmes formes prévues par le code de la construction et de l'habitation,\n",
      "afin de réaliser des actions ou opérations dans le cadre d'une opération de revitalisation de\n",
      "territoire ou pour favoriser la diversité, le maintien ou le développement d'activités artisanales et commerciales\n",
      "de proximité dans des espaces urbains.\n",
      "- Le conseil municipal peut délimiter un périmètre de sauvegarde du commerce et de l'artisanat\n",
      "de proximité, à l'intérieur duquel sont soumises au droit de préemption les ventes de fonds\n",
      "artisanaux, de fonds de commerce, de baux commerciaux et de terrains destinés à porter des\n",
      "commerces d'une surface de vente comprise entre 300 et 1 000 mètres carrés.\n",
      "- Le droit de préemption peut être exercé par le preneur qui a exercé pendant\n",
      "au moins trois ans la profession agricole et exploite le fonds mis en vente, ainsi\n",
      "que par son conjoint, partenaire de pacte civil de solidarité ou descendant qui remplit les\n",
      "conditions requises.\n",
      "- Le titulaire du droit de préemption a un délai de six mois pour statuer\n",
      "sur la demande d'instauration du droit de préemption, à compter de la réception du dossier\n",
      "complet.\n",
      "- Si le vendeur n'accepte pas une préemption partielle et exige que le titulaire du\n",
      "droit de préemption acquière l'ensemble de l'unité foncière, le titulaire peut accepter cette acquisition ou\n",
      "renoncer à préempter.\n",
      "\n",
      "Sources:\n",
      "- Code de l'urbanisme - Article R211-3, Article L300-9, Article R218-5, Article L214-1, Article R218-17,\n",
      "Article L213-16, Article R213-13, Article L218-7\n",
      "- Code rural et de la pêche maritime - Article D732-118, Article L412-5, Article D415-3,\n",
      "Article L412-10, Article L412-12, Article L323-15, Article L431-3\n",
      "- Code civil - Article 2260, Article 2411\n",
      "- Code rural (ancien) - Article 860\n"
     ]
    }
   ],
   "source": [
    "question = \"Quelles sont les conditions du droit de préemption urbain ?\"\n",
    "res_rag = pipeline.generate(question,20)\n",
    "print(add_backline(res_rag))\n",
    "context = pipeline.retrieve(question,20)\n"
   ]
  },
  {
   "cell_type": "code",
   "execution_count": null,
   "metadata": {},
   "outputs": [],
   "source": []
  }
 ],
 "metadata": {
  "kernelspec": {
   "display_name": "langchain_env",
   "language": "python",
   "name": "python3"
  },
  "language_info": {
   "codemirror_mode": {
    "name": "ipython",
    "version": 3
   },
   "file_extension": ".py",
   "mimetype": "text/x-python",
   "name": "python",
   "nbconvert_exporter": "python",
   "pygments_lexer": "ipython3",
   "version": "3.8.18"
  }
 },
 "nbformat": 4,
 "nbformat_minor": 2
}
